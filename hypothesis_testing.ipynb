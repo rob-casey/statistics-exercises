{
 "cells": [
  {
   "cell_type": "code",
   "execution_count": 32,
   "id": "4a325d18",
   "metadata": {},
   "outputs": [],
   "source": [
    "# vectorized operations and numerical calcs\n",
    "import numpy as np\n",
    "# tabular data window dressing and syntax\n",
    "import pandas as pd\n",
    "# visualizations\n",
    "import matplotlib.pyplot as plt\n",
    "import seaborn as sns\n",
    "# data source\n",
    "from pydataset import data\n",
    "# stats calculations\n",
    "from scipy import stats"
   ]
  },
  {
   "cell_type": "markdown",
   "id": "8dd05f3a",
   "metadata": {},
   "source": [
    "# Overview Exercises"
   ]
  },
  {
   "cell_type": "markdown",
   "id": "b803aab3",
   "metadata": {},
   "source": [
    "Has the network latency gone up since we switched internet service providers?"
   ]
  },
  {
   "cell_type": "markdown",
   "id": "e6c3ebeb",
   "metadata": {},
   "source": [
    "Question: Is there a difference in network latency since switching internet providers\n",
    "\n",
    "Null Hypothesis: There is no difference in network latency since switching internet providers\n",
    "\n",
    "Alt Hypothesis: There is a difference in network latency since switching internet providers\n",
    "\n",
    "True Positive: There is a difference\n",
    "\n",
    "True Negative: There is no difference\n",
    "\n",
    "T1 Error: Claims there is no difference, but there actually is\n",
    "\n",
    "T2 Error: Claims there is a difference, but there actually isn't\n",
    "    "
   ]
  },
  {
   "cell_type": "markdown",
   "id": "c7a117b3",
   "metadata": {},
   "source": [
    "Is the website redesign any good?"
   ]
  },
  {
   "cell_type": "markdown",
   "id": "666b70bb",
   "metadata": {},
   "source": [
    "Question: Does the website resign make an impact on traffic?\n",
    "\n",
    "Null Hypothesis: the website resign does not make an impact on traffic\n",
    "\n",
    "Alt Hypothesis: the website resign does make an impact on traffic\n",
    "\n",
    "True Positive: There is an impact\n",
    "\n",
    "True Negative: There is no impact\n",
    "\n",
    "T1 Error: Claims there isn't impact, but there actually is\n",
    "\n",
    "T2 Error: Claims there impact, but there actually isn't"
   ]
  },
  {
   "cell_type": "markdown",
   "id": "ba20c210",
   "metadata": {},
   "source": [
    "Is our television ad driving more sales?"
   ]
  },
  {
   "cell_type": "markdown",
   "id": "917fe7f3",
   "metadata": {},
   "source": [
    "Question: Does our tv ad increase sales?\n",
    "\n",
    "Null Hypothesis: Our tv ad doesn't make a difference in sales\n",
    "\n",
    "Alt Hypothesis: Our tv ad increases sales\n",
    "\n",
    "True Positive: The ad increases sales\n",
    "\n",
    "True Negative: The ad doesn't increase sales\n",
    "\n",
    "T1 Error: Claims there isn't an increase, there is actually\n",
    "\n",
    "T2 Error: Claims there is an increase, there isn't actually"
   ]
  },
  {
   "cell_type": "markdown",
   "id": "2f3f0a74",
   "metadata": {},
   "source": [
    "# Comparison of Means"
   ]
  },
  {
   "cell_type": "markdown",
   "id": "89773474",
   "metadata": {},
   "source": [
    "Answer with the type of test you would use (assume normal distribution):"
   ]
  },
  {
   "cell_type": "markdown",
   "id": "adc5fe82",
   "metadata": {},
   "source": [
    "Is there a difference in grades of students on the second floor compared to grades of all students?"
   ]
  },
  {
   "cell_type": "code",
   "execution_count": 25,
   "id": "4c2b23b5",
   "metadata": {},
   "outputs": [],
   "source": [
    "# grades of students on second floor\n",
    "# grades of all students\n",
    "# i have a continuous variable in grades ==> means test\n",
    "# across two different categories (means test as opposed to corr)\n",
    "# the two groups: second floor students (subset)\n",
    "# versus all students (population)\n",
    "# subset v population: 1-sample\n",
    "# non-directional difference: two tailed\n",
    "# what I want here (presuming appropriate parameters)\n",
    "# is a two-tailed, one sample t-test"
   ]
  },
  {
   "cell_type": "markdown",
   "id": "7031c5de",
   "metadata": {},
   "source": [
    "Are adults who drink milk taller than adults who dont drink milk?"
   ]
  },
  {
   "cell_type": "code",
   "execution_count": 26,
   "id": "ba7fc80c",
   "metadata": {},
   "outputs": [],
   "source": [
    "# adults that drink milk\n",
    "# adults that dont drink milk\n",
    "# two sub groups: milk drinkers vs non milk drinkers\n",
    "# two independent groups, no overlap ==> two sample\n",
    "# one-tailed test because we want to know if one is specifcally\n",
    "# taller than the other height_a > height_b\n",
    "# a: one tailed, independent t-test"
   ]
  },
  {
   "cell_type": "markdown",
   "id": "f6d49065",
   "metadata": {},
   "source": [
    "Is the price of gas higher in texas or in new mexico?\n"
   ]
  },
  {
   "cell_type": "code",
   "execution_count": 28,
   "id": "c165a035",
   "metadata": {},
   "outputs": [],
   "source": [
    "# one-tailed: asking specifically if its *higher* in one state\n",
    "# two-sample: two subgroups of texas and nm"
   ]
  },
  {
   "cell_type": "markdown",
   "id": "57816b00",
   "metadata": {},
   "source": [
    "Are there differences in stress levels between students who take data science vs students who take web development vs students who take cloud academy?"
   ]
  },
  {
   "cell_type": "code",
   "execution_count": 29,
   "id": "5f47d278",
   "metadata": {},
   "outputs": [],
   "source": [
    "# mean that is different across three different groups\n",
    "# non-directional, because its across more than two groups\n",
    "# we would use an anova test"
   ]
  },
  {
   "cell_type": "markdown",
   "id": "96a798b0",
   "metadata": {},
   "source": [
    "Ace Realty wants to determine whether the average time it takes to sell homes is different for its two offices. \n",
    "\n",
    "A sample of 40 sales from office #1 revealed a mean of 90 days and a standard deviation of 15 days. \n",
    "\n",
    "A sample of 50 sales from office #2 revealed a mean of 100 days and a standard deviation of 20 days. \n",
    "\n",
    "Use a .05 level of significance.\n"
   ]
  },
  {
   "cell_type": "code",
   "execution_count": 37,
   "id": "48f561b0",
   "metadata": {},
   "outputs": [],
   "source": [
    "# two sample t-test\n",
    "\n",
    "first_office = pd.Series(np.random.normal(90, 15, 40)) #mean, std_dev, sample\n",
    "second_office = pd.Series(np.random.normal(100, 20, 50))"
   ]
  },
  {
   "cell_type": "code",
   "execution_count": 38,
   "id": "6c34dcc1",
   "metadata": {},
   "outputs": [
    {
     "data": {
      "image/png": "[encoded data removed]",
      "text/plain": [
       "<Figure size 640x480 with 1 Axes>"
      ]
     },
     "metadata": {},
     "output_type": "display_data"
    }
   ],
   "source": [
    "first_office.hist()\n",
    "plt.show()"
   ]
  },
  {
   "cell_type": "code",
   "execution_count": 39,
   "id": "08653d4d",
   "metadata": {},
   "outputs": [
    {
     "data": {
      "image/png": "[encoded data removed]",
      "text/plain": [
       "<Figure size 640x480 with 1 Axes>"
      ]
     },
     "metadata": {},
     "output_type": "display_data"
    }
   ],
   "source": [
    "second_office.hist()\n",
    "plt.show()"
   ]
  },
  {
   "cell_type": "code",
   "execution_count": null,
   "id": "6998caa2",
   "metadata": {},
   "outputs": [],
   "source": []
  },
  {
   "cell_type": "code",
   "execution_count": null,
   "id": "9fd35e2c",
   "metadata": {},
   "outputs": [],
   "source": []
  },
  {
   "cell_type": "code",
   "execution_count": null,
   "id": "fa3bf74a",
   "metadata": {},
   "outputs": [],
   "source": []
  },
  {
   "cell_type": "code",
   "execution_count": null,
   "id": "93563c61",
   "metadata": {},
   "outputs": [],
   "source": []
  },
  {
   "cell_type": "code",
   "execution_count": null,
   "id": "fa1185a7",
   "metadata": {},
   "outputs": [],
   "source": []
  },
  {
   "cell_type": "code",
   "execution_count": null,
   "id": "3097884b",
   "metadata": {},
   "outputs": [],
   "source": []
  }
 ],
 "metadata": {
  "kernelspec": {
   "display_name": "Python 3 (ipykernel)",
   "language": "python",
   "name": "python3"
  },
  "language_info": {
   "codemirror_mode": {
    "name": "ipython",
    "version": 3
   },
   "file_extension": ".py",
   "mimetype": "text/x-python",
   "name": "python",
   "nbconvert_exporter": "python",
   "pygments_lexer": "ipython3",
   "version": "3.9.13"
  }
 },
 "nbformat": 4,
 "nbformat_minor": 5
}
