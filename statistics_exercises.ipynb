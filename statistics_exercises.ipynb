{
 "cells": [
  {
   "cell_type": "code",
   "execution_count": 1,
   "id": "5b110dd4",
   "metadata": {},
   "outputs": [],
   "source": [
    "import numpy as np\n",
    "import pandas as pd"
   ]
  },
  {
   "cell_type": "markdown",
   "id": "8eeac62c",
   "metadata": {},
   "source": [
    "How likely is it that you roll doubles when rolling two dice?"
   ]
  },
  {
   "cell_type": "code",
   "execution_count": 2,
   "id": "183f15d5",
   "metadata": {},
   "outputs": [
    {
     "data": {
      "text/plain": [
       "array([[4, 6],\n",
       "       [5, 3],\n",
       "       [5, 1],\n",
       "       ...,\n",
       "       [6, 6],\n",
       "       [2, 6],\n",
       "       [5, 1]])"
      ]
     },
     "execution_count": 2,
     "metadata": {},
     "output_type": "execute_result"
    }
   ],
   "source": [
    "n_trials = 100_000 # rows\n",
    "n_dice = 2 # columns\n",
    "\n",
    "rolls_array = np.random.choice([1, 2, 3, 4, 5, 6], n_trials * n_dice)\\\n",
    "        .reshape(n_trials, n_dice)\n",
    "\n",
    "rolls_array"
   ]
  },
  {
   "cell_type": "code",
   "execution_count": 3,
   "id": "781fd94b",
   "metadata": {},
   "outputs": [
    {
     "data": {
      "text/plain": [
       "0.16696"
      ]
     },
     "execution_count": 3,
     "metadata": {},
     "output_type": "execute_result"
    }
   ],
   "source": [
    "(rolls_array[:,0] == rolls_array[:,1]).mean()"
   ]
  },
  {
   "cell_type": "code",
   "execution_count": 4,
   "id": "157983cf",
   "metadata": {},
   "outputs": [
    {
     "data": {
      "text/html": [
       "<div>\n",
       "<style scoped>\n",
       "    .dataframe tbody tr th:only-of-type {\n",
       "        vertical-align: middle;\n",
       "    }\n",
       "\n",
       "    .dataframe tbody tr th {\n",
       "        vertical-align: top;\n",
       "    }\n",
       "\n",
       "    .dataframe thead th {\n",
       "        text-align: right;\n",
       "    }\n",
       "</style>\n",
       "<table border=\"1\" class=\"dataframe\">\n",
       "  <thead>\n",
       "    <tr style=\"text-align: right;\">\n",
       "      <th></th>\n",
       "      <th>0</th>\n",
       "      <th>1</th>\n",
       "      <th>die1</th>\n",
       "      <th>die2</th>\n",
       "    </tr>\n",
       "  </thead>\n",
       "  <tbody>\n",
       "    <tr>\n",
       "      <th>0</th>\n",
       "      <td>4</td>\n",
       "      <td>6</td>\n",
       "      <td>6</td>\n",
       "      <td>2</td>\n",
       "    </tr>\n",
       "    <tr>\n",
       "      <th>1</th>\n",
       "      <td>5</td>\n",
       "      <td>3</td>\n",
       "      <td>2</td>\n",
       "      <td>2</td>\n",
       "    </tr>\n",
       "    <tr>\n",
       "      <th>2</th>\n",
       "      <td>5</td>\n",
       "      <td>1</td>\n",
       "      <td>6</td>\n",
       "      <td>1</td>\n",
       "    </tr>\n",
       "    <tr>\n",
       "      <th>3</th>\n",
       "      <td>1</td>\n",
       "      <td>3</td>\n",
       "      <td>4</td>\n",
       "      <td>6</td>\n",
       "    </tr>\n",
       "    <tr>\n",
       "      <th>4</th>\n",
       "      <td>2</td>\n",
       "      <td>4</td>\n",
       "      <td>5</td>\n",
       "      <td>5</td>\n",
       "    </tr>\n",
       "    <tr>\n",
       "      <th>...</th>\n",
       "      <td>...</td>\n",
       "      <td>...</td>\n",
       "      <td>...</td>\n",
       "      <td>...</td>\n",
       "    </tr>\n",
       "    <tr>\n",
       "      <th>99995</th>\n",
       "      <td>5</td>\n",
       "      <td>3</td>\n",
       "      <td>6</td>\n",
       "      <td>3</td>\n",
       "    </tr>\n",
       "    <tr>\n",
       "      <th>99996</th>\n",
       "      <td>6</td>\n",
       "      <td>2</td>\n",
       "      <td>4</td>\n",
       "      <td>1</td>\n",
       "    </tr>\n",
       "    <tr>\n",
       "      <th>99997</th>\n",
       "      <td>6</td>\n",
       "      <td>6</td>\n",
       "      <td>3</td>\n",
       "      <td>3</td>\n",
       "    </tr>\n",
       "    <tr>\n",
       "      <th>99998</th>\n",
       "      <td>2</td>\n",
       "      <td>6</td>\n",
       "      <td>3</td>\n",
       "      <td>4</td>\n",
       "    </tr>\n",
       "    <tr>\n",
       "      <th>99999</th>\n",
       "      <td>5</td>\n",
       "      <td>1</td>\n",
       "      <td>6</td>\n",
       "      <td>2</td>\n",
       "    </tr>\n",
       "  </tbody>\n",
       "</table>\n",
       "<p>100000 rows × 4 columns</p>\n",
       "</div>"
      ],
      "text/plain": [
       "       0  1  die1  die2\n",
       "0      4  6     6     2\n",
       "1      5  3     2     2\n",
       "2      5  1     6     1\n",
       "3      1  3     4     6\n",
       "4      2  4     5     5\n",
       "...   .. ..   ...   ...\n",
       "99995  5  3     6     3\n",
       "99996  6  2     4     1\n",
       "99997  6  6     3     3\n",
       "99998  2  6     3     4\n",
       "99999  5  1     6     2\n",
       "\n",
       "[100000 rows x 4 columns]"
      ]
     },
     "execution_count": 4,
     "metadata": {},
     "output_type": "execute_result"
    }
   ],
   "source": [
    "# pandas solution\n",
    "\n",
    "rolls_df = pd.DataFrame(rolls_array)\n",
    "rolls_df['die1'] = np.random.choice([1, 2, 3, 4, 5, 6], size = 100_000)\n",
    "rolls_df['die2'] = np.random.choice([1, 2, 3, 4, 5, 6], size = 100_000)\n",
    "rolls_df"
   ]
  },
  {
   "cell_type": "code",
   "execution_count": 5,
   "id": "aa1a90d8",
   "metadata": {},
   "outputs": [
    {
     "data": {
      "text/plain": [
       "0.16751"
      ]
     },
     "execution_count": 5,
     "metadata": {},
     "output_type": "execute_result"
    }
   ],
   "source": [
    "rolls_df['is_pair'] = (rolls_df.die1 == rolls_df.die2)\n",
    "rolls_df.is_pair.mean()"
   ]
  },
  {
   "cell_type": "code",
   "execution_count": 6,
   "id": "21d50e78",
   "metadata": {},
   "outputs": [
    {
     "data": {
      "text/plain": [
       "0.16563"
      ]
     },
     "execution_count": 6,
     "metadata": {},
     "output_type": "execute_result"
    }
   ],
   "source": [
    "# numpy solution\n",
    "\n",
    "a = np.random.choice([1, 2, 3, 4, 5, 6], size = 100_000)\n",
    "b = np.random.choice([1, 2, 3, 4, 5, 6], size = 100_000)\n",
    "(a == b).mean()"
   ]
  },
  {
   "cell_type": "markdown",
   "id": "74c071a5",
   "metadata": {},
   "source": [
    "If you flip 8 coins, what is the probability of getting exactly 3 heads? \n",
    "\n",
    "What is the probability of getting more than 3 heads?"
   ]
  },
  {
   "cell_type": "code",
   "execution_count": 7,
   "id": "46af1ace",
   "metadata": {},
   "outputs": [
    {
     "data": {
      "text/plain": [
       "array([[1, 0, 1, ..., 1, 0, 1],\n",
       "       [1, 1, 1, ..., 0, 1, 1],\n",
       "       [0, 0, 0, ..., 0, 0, 1],\n",
       "       ...,\n",
       "       [0, 1, 0, ..., 1, 1, 1],\n",
       "       [1, 1, 0, ..., 1, 0, 1],\n",
       "       [1, 0, 1, ..., 0, 0, 1]])"
      ]
     },
     "execution_count": 7,
     "metadata": {},
     "output_type": "execute_result"
    }
   ],
   "source": [
    "n_trials = nrows = 100_000\n",
    "n_coins = ncols = 8\n",
    "\n",
    "# 1 is heads, 0 is tails (encoded)\n",
    "coin_flips = np.random.choice([1, 0], n_trials * n_coins)\\\n",
    ".reshape(nrows, ncols)\n",
    "coin_flips"
   ]
  },
  {
   "cell_type": "code",
   "execution_count": 18,
   "id": "8aeced85",
   "metadata": {},
   "outputs": [
    {
     "data": {
      "text/plain": [
       "array([4, 5, 2, ..., 5, 5, 5])"
      ]
     },
     "execution_count": 18,
     "metadata": {},
     "output_type": "execute_result"
    }
   ],
   "source": [
    "#axis 1 is sum by row\n",
    "num_of_heads = coin_flips.sum(axis = 1)\n",
    "num_of_heads"
   ]
  },
  {
   "cell_type": "code",
   "execution_count": 10,
   "id": "745fd5c3",
   "metadata": {},
   "outputs": [
    {
     "data": {
      "text/plain": [
       "0.2181"
      ]
     },
     "execution_count": 10,
     "metadata": {},
     "output_type": "execute_result"
    }
   ],
   "source": [
    "(num_of_heads == 3).mean()"
   ]
  },
  {
   "cell_type": "code",
   "execution_count": 11,
   "id": "8a458431",
   "metadata": {},
   "outputs": [
    {
     "data": {
      "text/plain": [
       "0.63614"
      ]
     },
     "execution_count": 11,
     "metadata": {},
     "output_type": "execute_result"
    }
   ],
   "source": [
    "(num_of_heads > 3).mean()"
   ]
  },
  {
   "cell_type": "markdown",
   "id": "28e42498",
   "metadata": {},
   "source": [
    "There are approximitely 3 web development cohorts for every 1 data science cohort at Codeup. \n",
    "Assuming that Codeup randomly selects an alumni to put on a billboard...\n",
    "\n",
    "what are the odds that the two billboards I drive past both have data science students on them?"
   ]
  },
  {
   "cell_type": "code",
   "execution_count": 100,
   "id": "8245e5c9",
   "metadata": {},
   "outputs": [
    {
     "data": {
      "text/plain": [
       "array([['webdev', 'webdev'],\n",
       "       ['webdev', 'datasci'],\n",
       "       ['datasci', 'datasci'],\n",
       "       ...,\n",
       "       ['webdev', 'datasci'],\n",
       "       ['webdev', 'webdev'],\n",
       "       ['webdev', 'datasci']], dtype='<U7')"
      ]
     },
     "execution_count": 100,
     "metadata": {},
     "output_type": "execute_result"
    }
   ],
   "source": [
    "n_trials = 100_000\n",
    "billboards = 2\n",
    "# web_dev = 3 (75%)\n",
    "# data_sci = 1 (25%)\n",
    "\n",
    "cohort_odds = np.random.choice(['webdev', 'datasci'], \n",
    "              size=(n_trials, billboards), \n",
    "              p=[.75, .25])\n",
    "cohort_odds"
   ]
  },
  {
   "cell_type": "code",
   "execution_count": 101,
   "id": "180b1bec",
   "metadata": {},
   "outputs": [
    {
     "data": {
      "text/html": [
       "<div>\n",
       "<style scoped>\n",
       "    .dataframe tbody tr th:only-of-type {\n",
       "        vertical-align: middle;\n",
       "    }\n",
       "\n",
       "    .dataframe tbody tr th {\n",
       "        vertical-align: top;\n",
       "    }\n",
       "\n",
       "    .dataframe thead th {\n",
       "        text-align: right;\n",
       "    }\n",
       "</style>\n",
       "<table border=\"1\" class=\"dataframe\">\n",
       "  <thead>\n",
       "    <tr style=\"text-align: right;\">\n",
       "      <th></th>\n",
       "      <th>first_billboard</th>\n",
       "      <th>second_billboard</th>\n",
       "    </tr>\n",
       "  </thead>\n",
       "  <tbody>\n",
       "    <tr>\n",
       "      <th>0</th>\n",
       "      <td>webdev</td>\n",
       "      <td>webdev</td>\n",
       "    </tr>\n",
       "    <tr>\n",
       "      <th>1</th>\n",
       "      <td>webdev</td>\n",
       "      <td>datasci</td>\n",
       "    </tr>\n",
       "    <tr>\n",
       "      <th>2</th>\n",
       "      <td>datasci</td>\n",
       "      <td>datasci</td>\n",
       "    </tr>\n",
       "    <tr>\n",
       "      <th>3</th>\n",
       "      <td>webdev</td>\n",
       "      <td>webdev</td>\n",
       "    </tr>\n",
       "    <tr>\n",
       "      <th>4</th>\n",
       "      <td>webdev</td>\n",
       "      <td>datasci</td>\n",
       "    </tr>\n",
       "    <tr>\n",
       "      <th>...</th>\n",
       "      <td>...</td>\n",
       "      <td>...</td>\n",
       "    </tr>\n",
       "    <tr>\n",
       "      <th>99995</th>\n",
       "      <td>webdev</td>\n",
       "      <td>webdev</td>\n",
       "    </tr>\n",
       "    <tr>\n",
       "      <th>99996</th>\n",
       "      <td>webdev</td>\n",
       "      <td>webdev</td>\n",
       "    </tr>\n",
       "    <tr>\n",
       "      <th>99997</th>\n",
       "      <td>webdev</td>\n",
       "      <td>datasci</td>\n",
       "    </tr>\n",
       "    <tr>\n",
       "      <th>99998</th>\n",
       "      <td>webdev</td>\n",
       "      <td>webdev</td>\n",
       "    </tr>\n",
       "    <tr>\n",
       "      <th>99999</th>\n",
       "      <td>webdev</td>\n",
       "      <td>datasci</td>\n",
       "    </tr>\n",
       "  </tbody>\n",
       "</table>\n",
       "<p>100000 rows × 2 columns</p>\n",
       "</div>"
      ],
      "text/plain": [
       "      first_billboard second_billboard\n",
       "0              webdev           webdev\n",
       "1              webdev          datasci\n",
       "2             datasci          datasci\n",
       "3              webdev           webdev\n",
       "4              webdev          datasci\n",
       "...               ...              ...\n",
       "99995          webdev           webdev\n",
       "99996          webdev           webdev\n",
       "99997          webdev          datasci\n",
       "99998          webdev           webdev\n",
       "99999          webdev          datasci\n",
       "\n",
       "[100000 rows x 2 columns]"
      ]
     },
     "execution_count": 101,
     "metadata": {},
     "output_type": "execute_result"
    }
   ],
   "source": [
    "cohort_df = pd.DataFrame(cohort_odds)\n",
    "cohort_df.columns = ['first_billboard', 'second_billboard']\n",
    "cohort_df"
   ]
  },
  {
   "cell_type": "code",
   "execution_count": 102,
   "id": "d0929b62",
   "metadata": {},
   "outputs": [
    {
     "data": {
      "text/html": [
       "<div>\n",
       "<style scoped>\n",
       "    .dataframe tbody tr th:only-of-type {\n",
       "        vertical-align: middle;\n",
       "    }\n",
       "\n",
       "    .dataframe tbody tr th {\n",
       "        vertical-align: top;\n",
       "    }\n",
       "\n",
       "    .dataframe thead th {\n",
       "        text-align: right;\n",
       "    }\n",
       "</style>\n",
       "<table border=\"1\" class=\"dataframe\">\n",
       "  <thead>\n",
       "    <tr style=\"text-align: right;\">\n",
       "      <th></th>\n",
       "      <th>first_billboard</th>\n",
       "      <th>second_billboard</th>\n",
       "      <th>both_ds</th>\n",
       "    </tr>\n",
       "  </thead>\n",
       "  <tbody>\n",
       "    <tr>\n",
       "      <th>0</th>\n",
       "      <td>webdev</td>\n",
       "      <td>webdev</td>\n",
       "      <td>False</td>\n",
       "    </tr>\n",
       "    <tr>\n",
       "      <th>1</th>\n",
       "      <td>webdev</td>\n",
       "      <td>datasci</td>\n",
       "      <td>False</td>\n",
       "    </tr>\n",
       "    <tr>\n",
       "      <th>2</th>\n",
       "      <td>datasci</td>\n",
       "      <td>datasci</td>\n",
       "      <td>True</td>\n",
       "    </tr>\n",
       "    <tr>\n",
       "      <th>3</th>\n",
       "      <td>webdev</td>\n",
       "      <td>webdev</td>\n",
       "      <td>False</td>\n",
       "    </tr>\n",
       "    <tr>\n",
       "      <th>4</th>\n",
       "      <td>webdev</td>\n",
       "      <td>datasci</td>\n",
       "      <td>False</td>\n",
       "    </tr>\n",
       "    <tr>\n",
       "      <th>...</th>\n",
       "      <td>...</td>\n",
       "      <td>...</td>\n",
       "      <td>...</td>\n",
       "    </tr>\n",
       "    <tr>\n",
       "      <th>99995</th>\n",
       "      <td>webdev</td>\n",
       "      <td>webdev</td>\n",
       "      <td>False</td>\n",
       "    </tr>\n",
       "    <tr>\n",
       "      <th>99996</th>\n",
       "      <td>webdev</td>\n",
       "      <td>webdev</td>\n",
       "      <td>False</td>\n",
       "    </tr>\n",
       "    <tr>\n",
       "      <th>99997</th>\n",
       "      <td>webdev</td>\n",
       "      <td>datasci</td>\n",
       "      <td>False</td>\n",
       "    </tr>\n",
       "    <tr>\n",
       "      <th>99998</th>\n",
       "      <td>webdev</td>\n",
       "      <td>webdev</td>\n",
       "      <td>False</td>\n",
       "    </tr>\n",
       "    <tr>\n",
       "      <th>99999</th>\n",
       "      <td>webdev</td>\n",
       "      <td>datasci</td>\n",
       "      <td>False</td>\n",
       "    </tr>\n",
       "  </tbody>\n",
       "</table>\n",
       "<p>100000 rows × 3 columns</p>\n",
       "</div>"
      ],
      "text/plain": [
       "      first_billboard second_billboard  both_ds\n",
       "0              webdev           webdev    False\n",
       "1              webdev          datasci    False\n",
       "2             datasci          datasci     True\n",
       "3              webdev           webdev    False\n",
       "4              webdev          datasci    False\n",
       "...               ...              ...      ...\n",
       "99995          webdev           webdev    False\n",
       "99996          webdev           webdev    False\n",
       "99997          webdev          datasci    False\n",
       "99998          webdev           webdev    False\n",
       "99999          webdev          datasci    False\n",
       "\n",
       "[100000 rows x 3 columns]"
      ]
     },
     "execution_count": 102,
     "metadata": {},
     "output_type": "execute_result"
    }
   ],
   "source": [
    "cohort_df['both_ds'] = \\\n",
    "(cohort_df.first_billboard == 'datasci') & (cohort_df.second_billboard == 'datasci')\n",
    "cohort_df"
   ]
  },
  {
   "cell_type": "code",
   "execution_count": 105,
   "id": "6fea5ab3",
   "metadata": {},
   "outputs": [
    {
     "data": {
      "text/plain": [
       "0.06318"
      ]
     },
     "execution_count": 105,
     "metadata": {},
     "output_type": "execute_result"
    }
   ],
   "source": [
    "cohort_df['both_ds'].mean()"
   ]
  },
  {
   "cell_type": "markdown",
   "id": "9dd4c47d",
   "metadata": {},
   "source": [
    "Codeup students buy, on average, 3 poptart packages with a standard deviation of 1.5 a day from the snack vending machine. \n",
    "\n",
    "If on monday the machine is restocked with 17 poptart packages, how likely is it that I will be able to buy some poptarts on Friday afternoon? \n",
    "\n",
    "(Remember, if you have mean and standard deviation, use the np.random.normal) You'll need to make a judgement call on how to handle some of your values"
   ]
  },
  {
   "cell_type": "code",
   "execution_count": 99,
   "id": "0745715e",
   "metadata": {},
   "outputs": [],
   "source": [
    "mean = 3 # packages\n",
    "st_dev = 1.5 # packages\n",
    "n_days = 5 # days\n",
    "restocked = 17 # packages\n",
    "mean_week = mean * n_days"
   ]
  },
  {
   "cell_type": "code",
   "execution_count": 70,
   "id": "8339f2fd",
   "metadata": {},
   "outputs": [],
   "source": [
    "n_weeks = 10000\n",
    "n_packages_per_day = np.round(np.random.normal(mean, st_dev, size=(n_weeks, n_days)))"
   ]
  },
  {
   "cell_type": "code",
   "execution_count": 71,
   "id": "4cf85a5c",
   "metadata": {},
   "outputs": [],
   "source": [
    "n_left_per_week = restocked - np.sum(n_packages_per_day[:, :4], axis=1)"
   ]
  },
  {
   "cell_type": "code",
   "execution_count": 72,
   "id": "6ca999f2",
   "metadata": {},
   "outputs": [
    {
     "data": {
      "text/plain": [
       "0.9313"
      ]
     },
     "execution_count": 72,
     "metadata": {},
     "output_type": "execute_result"
    }
   ],
   "source": [
    "n_left_mask = n_left_per_week > 0\n",
    "prob_left = np.sum(n_left_mask) / n_weeks\n",
    "prob_left"
   ]
  },
  {
   "cell_type": "markdown",
   "id": "a8649be8",
   "metadata": {},
   "source": [
    "Compare Heights\n",
    "\n",
    "Men have an average height of 178 cm and standard deviation of 8cm.\n",
    "\n",
    "Women have a mean of 170, sd = 6cm.\n",
    "\n",
    "Since you have means and standard deviations, you can use np.random.normal to generate observations.\n",
    "\n",
    "If a man and woman are chosen at random, what is the likelihood the woman is taller than the man?"
   ]
  },
  {
   "cell_type": "code",
   "execution_count": 75,
   "id": "059c80aa",
   "metadata": {},
   "outputs": [
    {
     "data": {
      "text/plain": [
       "0.2066"
      ]
     },
     "execution_count": 75,
     "metadata": {},
     "output_type": "execute_result"
    }
   ],
   "source": [
    "men_mean = 178\n",
    "men_std_dev = 8\n",
    "women_mean = 170\n",
    "women_std_dev = 6\n",
    "n_choices = 10000\n",
    "\n",
    "n_men = np.round(np.random.normal(men_mean, men_std_dev, size=(n_choices)))\n",
    "n_women = np.round(np.random.normal(women_mean, women_std_dev, size=(n_choices)))\n",
    "\n",
    "(n_women > n_men).mean()"
   ]
  },
  {
   "cell_type": "markdown",
   "id": "84de60d0",
   "metadata": {},
   "source": [
    "When installing anaconda on a student's computer, there's a 1 in 250 chance that the download is corrupted and the installation fails. \n",
    "\n",
    "What are the odds that after having 50 students download anaconda, no one has an installation issue? 100 students?"
   ]
  },
  {
   "cell_type": "code",
   "execution_count": 113,
   "id": "55fe7a79",
   "metadata": {},
   "outputs": [],
   "source": [
    "fail = 1 / 250\n",
    "success = 249/250\n",
    "chance = [success, fail]\n",
    "\n",
    "n_students = 50\n",
    "n_trials = 10000\n",
    "n_students_100 = 100\n",
    "n_students_150 = 150\n",
    "n_students_450 = 450"
   ]
  },
  {
   "cell_type": "code",
   "execution_count": 85,
   "id": "35bc6d47",
   "metadata": {},
   "outputs": [
    {
     "data": {
      "text/plain": [
       "array([[1, 1, 1, ..., 1, 1, 1],\n",
       "       [1, 1, 1, ..., 1, 1, 1],\n",
       "       [1, 1, 1, ..., 1, 1, 1],\n",
       "       ...,\n",
       "       [1, 1, 1, ..., 0, 1, 1],\n",
       "       [1, 1, 1, ..., 1, 1, 1],\n",
       "       [1, 1, 1, ..., 1, 1, 1]])"
      ]
     },
     "execution_count": 85,
     "metadata": {},
     "output_type": "execute_result"
    }
   ],
   "source": [
    "download = np.random.choice([1,0], n_students * n_trials, p=chance)\\\n",
    "           .reshape(n_trials, n_students)\n",
    "download"
   ]
  },
  {
   "cell_type": "code",
   "execution_count": 87,
   "id": "0b3be923",
   "metadata": {},
   "outputs": [
    {
     "data": {
      "text/plain": [
       "0.8225"
      ]
     },
     "execution_count": 87,
     "metadata": {},
     "output_type": "execute_result"
    }
   ],
   "source": [
    "(download.sum(axis = 1) == 50).mean()"
   ]
  },
  {
   "cell_type": "code",
   "execution_count": 92,
   "id": "76f5513e",
   "metadata": {},
   "outputs": [
    {
     "data": {
      "text/plain": [
       "array([[1, 1, 1, ..., 1, 1, 1],\n",
       "       [1, 1, 1, ..., 1, 1, 1],\n",
       "       [1, 1, 1, ..., 1, 1, 1],\n",
       "       ...,\n",
       "       [1, 1, 1, ..., 1, 1, 1],\n",
       "       [1, 1, 1, ..., 1, 1, 1],\n",
       "       [1, 1, 1, ..., 1, 1, 1]])"
      ]
     },
     "execution_count": 92,
     "metadata": {},
     "output_type": "execute_result"
    }
   ],
   "source": [
    "download_100 = np.random.choice([1,0], n_students_100 * n_trials, p=chance)\\\n",
    ".reshape(n_trials, n_students_100)\n",
    "download_100"
   ]
  },
  {
   "cell_type": "code",
   "execution_count": 98,
   "id": "4f1df8ca",
   "metadata": {},
   "outputs": [
    {
     "data": {
      "text/plain": [
       "0.6684"
      ]
     },
     "execution_count": 98,
     "metadata": {},
     "output_type": "execute_result"
    }
   ],
   "source": [
    "(download_100.sum(axis=1) == 100).mean()"
   ]
  },
  {
   "cell_type": "markdown",
   "id": "45328ba2",
   "metadata": {},
   "source": [
    "What is the probability that we observe an installation issue within the first 150 students that download anaconda?\n",
    "\n",
    "\n",
    "How likely is it that 450 students all download anaconda without an issue?"
   ]
  },
  {
   "cell_type": "code",
   "execution_count": 111,
   "id": "0e552517",
   "metadata": {},
   "outputs": [
    {
     "data": {
      "text/plain": [
       "array([[1, 1, 0, ..., 1, 1, 1],\n",
       "       [1, 1, 1, ..., 1, 1, 1],\n",
       "       [1, 1, 1, ..., 1, 1, 1],\n",
       "       ...,\n",
       "       [1, 1, 1, ..., 1, 1, 1],\n",
       "       [1, 1, 1, ..., 1, 1, 1],\n",
       "       [1, 1, 1, ..., 1, 1, 1]])"
      ]
     },
     "execution_count": 111,
     "metadata": {},
     "output_type": "execute_result"
    }
   ],
   "source": [
    "download_450 = np.random.choice([1,0], n_students_450 * n_trials, p=chance)\\\n",
    ".reshape(n_trials, n_students_450)\n",
    "download_450"
   ]
  },
  {
   "cell_type": "code",
   "execution_count": 112,
   "id": "415099aa",
   "metadata": {},
   "outputs": [
    {
     "data": {
      "text/plain": [
       "0.1691"
      ]
     },
     "execution_count": 112,
     "metadata": {},
     "output_type": "execute_result"
    }
   ],
   "source": [
    "(download_450.sum(axis=1) == 450).mean()"
   ]
  },
  {
   "cell_type": "code",
   "execution_count": 116,
   "id": "ec0bc659",
   "metadata": {},
   "outputs": [
    {
     "data": {
      "text/plain": [
       "array([[1, 1, 1, ..., 1, 1, 1],\n",
       "       [1, 1, 1, ..., 1, 1, 1],\n",
       "       [1, 1, 1, ..., 1, 1, 1],\n",
       "       ...,\n",
       "       [1, 1, 1, ..., 1, 1, 1],\n",
       "       [1, 1, 1, ..., 1, 1, 1],\n",
       "       [1, 1, 1, ..., 1, 1, 1]])"
      ]
     },
     "execution_count": 116,
     "metadata": {},
     "output_type": "execute_result"
    }
   ],
   "source": [
    "download_150 = np.random.choice([1,0], n_students_150 * n_trials, p=chance)\\\n",
    ".reshape(n_trials, n_students_150)\n",
    "download_150"
   ]
  },
  {
   "cell_type": "code",
   "execution_count": 120,
   "id": "a4eb2830",
   "metadata": {},
   "outputs": [
    {
     "data": {
      "text/plain": [
       "0.451"
      ]
     },
     "execution_count": 120,
     "metadata": {},
     "output_type": "execute_result"
    }
   ],
   "source": [
    "(1 - (download_150.sum(axis = 1) == 150).mean()).round(3)"
   ]
  },
  {
   "cell_type": "markdown",
   "id": "e806ac4d",
   "metadata": {},
   "source": [
    "There's a 70% chance on any given day that there will be at least one food truck at Travis Park. \n",
    "\n",
    "However, you haven't seen a food truck there in 3 days. How unlikely is this?"
   ]
  },
  {
   "cell_type": "code",
   "execution_count": 135,
   "id": "c447b809",
   "metadata": {},
   "outputs": [
    {
     "data": {
      "text/plain": [
       "array([['truck', 'truck', 'none', ..., 'truck', 'truck', 'truck'],\n",
       "       ['truck', 'truck', 'truck', ..., 'truck', 'none', 'truck'],\n",
       "       ['truck', 'none', 'truck', ..., 'truck', 'none', 'truck'],\n",
       "       ...,\n",
       "       ['none', 'truck', 'truck', ..., 'none', 'truck', 'truck'],\n",
       "       ['truck', 'truck', 'none', ..., 'truck', 'none', 'truck'],\n",
       "       ['truck', 'none', 'none', ..., 'truck', 'none', 'truck']],\n",
       "      dtype='<U5')"
      ]
     },
     "execution_count": 135,
     "metadata": {},
     "output_type": "execute_result"
    }
   ],
   "source": [
    "n_trials = 10000\n",
    "shows = .70\n",
    "no_shows = .30\n",
    "truck_chance = [shows, no_shows]\n",
    "n_days = 7\n",
    "\n",
    "truck_arrives = np.random.choice(['truck', 'none'], n_trials * n_days, p=truck_chance)\\\n",
    ".reshape(n_trials, n_days)\n",
    "truck_arrives"
   ]
  },
  {
   "cell_type": "code",
   "execution_count": 140,
   "id": "6dee74f6",
   "metadata": {},
   "outputs": [
    {
     "data": {
      "text/plain": [
       "2.74"
      ]
     },
     "execution_count": 140,
     "metadata": {},
     "output_type": "execute_result"
    }
   ],
   "source": [
    "((truck_arrives[:,0] == 'none') & (truck_arrives[:,1] == 'none')\\\n",
    "& (truck_arrives[:,2] == 'none')).mean() * 100"
   ]
  },
  {
   "cell_type": "code",
   "execution_count": 148,
   "id": "75af0efb",
   "metadata": {},
   "outputs": [
    {
     "data": {
      "text/html": [
       "<div>\n",
       "<style scoped>\n",
       "    .dataframe tbody tr th:only-of-type {\n",
       "        vertical-align: middle;\n",
       "    }\n",
       "\n",
       "    .dataframe tbody tr th {\n",
       "        vertical-align: top;\n",
       "    }\n",
       "\n",
       "    .dataframe thead th {\n",
       "        text-align: right;\n",
       "    }\n",
       "</style>\n",
       "<table border=\"1\" class=\"dataframe\">\n",
       "  <thead>\n",
       "    <tr style=\"text-align: right;\">\n",
       "      <th></th>\n",
       "      <th>day_1</th>\n",
       "      <th>day_2</th>\n",
       "      <th>day_3</th>\n",
       "    </tr>\n",
       "  </thead>\n",
       "  <tbody>\n",
       "    <tr>\n",
       "      <th>0</th>\n",
       "      <td>1</td>\n",
       "      <td>0</td>\n",
       "      <td>1</td>\n",
       "    </tr>\n",
       "    <tr>\n",
       "      <th>1</th>\n",
       "      <td>1</td>\n",
       "      <td>1</td>\n",
       "      <td>0</td>\n",
       "    </tr>\n",
       "    <tr>\n",
       "      <th>2</th>\n",
       "      <td>1</td>\n",
       "      <td>1</td>\n",
       "      <td>1</td>\n",
       "    </tr>\n",
       "    <tr>\n",
       "      <th>3</th>\n",
       "      <td>0</td>\n",
       "      <td>1</td>\n",
       "      <td>1</td>\n",
       "    </tr>\n",
       "    <tr>\n",
       "      <th>4</th>\n",
       "      <td>0</td>\n",
       "      <td>1</td>\n",
       "      <td>1</td>\n",
       "    </tr>\n",
       "  </tbody>\n",
       "</table>\n",
       "</div>"
      ],
      "text/plain": [
       "   day_1  day_2  day_3\n",
       "0      1      0      1\n",
       "1      1      1      0\n",
       "2      1      1      1\n",
       "3      0      1      1\n",
       "4      0      1      1"
      ]
     },
     "execution_count": 148,
     "metadata": {},
     "output_type": "execute_result"
    }
   ],
   "source": [
    "trucks = np.random.choice([1,0], size=(100_000, 3), p=truck_chance)\n",
    "df = pd.DataFrame(trucks)\n",
    "df.columns = ['day_1', 'day_2', 'day_3']\n",
    "df.head()"
   ]
  },
  {
   "cell_type": "code",
   "execution_count": 149,
   "id": "510d303f",
   "metadata": {},
   "outputs": [
    {
     "data": {
      "text/html": [
       "<div>\n",
       "<style scoped>\n",
       "    .dataframe tbody tr th:only-of-type {\n",
       "        vertical-align: middle;\n",
       "    }\n",
       "\n",
       "    .dataframe tbody tr th {\n",
       "        vertical-align: top;\n",
       "    }\n",
       "\n",
       "    .dataframe thead th {\n",
       "        text-align: right;\n",
       "    }\n",
       "</style>\n",
       "<table border=\"1\" class=\"dataframe\">\n",
       "  <thead>\n",
       "    <tr style=\"text-align: right;\">\n",
       "      <th></th>\n",
       "      <th>day_1</th>\n",
       "      <th>day_2</th>\n",
       "      <th>day_3</th>\n",
       "      <th>appear</th>\n",
       "    </tr>\n",
       "  </thead>\n",
       "  <tbody>\n",
       "    <tr>\n",
       "      <th>0</th>\n",
       "      <td>1</td>\n",
       "      <td>0</td>\n",
       "      <td>1</td>\n",
       "      <td>2</td>\n",
       "    </tr>\n",
       "    <tr>\n",
       "      <th>1</th>\n",
       "      <td>1</td>\n",
       "      <td>1</td>\n",
       "      <td>0</td>\n",
       "      <td>2</td>\n",
       "    </tr>\n",
       "    <tr>\n",
       "      <th>2</th>\n",
       "      <td>1</td>\n",
       "      <td>1</td>\n",
       "      <td>1</td>\n",
       "      <td>3</td>\n",
       "    </tr>\n",
       "    <tr>\n",
       "      <th>3</th>\n",
       "      <td>0</td>\n",
       "      <td>1</td>\n",
       "      <td>1</td>\n",
       "      <td>2</td>\n",
       "    </tr>\n",
       "    <tr>\n",
       "      <th>4</th>\n",
       "      <td>0</td>\n",
       "      <td>1</td>\n",
       "      <td>1</td>\n",
       "      <td>2</td>\n",
       "    </tr>\n",
       "  </tbody>\n",
       "</table>\n",
       "</div>"
      ],
      "text/plain": [
       "   day_1  day_2  day_3  appear\n",
       "0      1      0      1       2\n",
       "1      1      1      0       2\n",
       "2      1      1      1       3\n",
       "3      0      1      1       2\n",
       "4      0      1      1       2"
      ]
     },
     "execution_count": 149,
     "metadata": {},
     "output_type": "execute_result"
    }
   ],
   "source": [
    "df['appear'] = df.day_1 + df.day_2 + df.day_3\n",
    "df.head()"
   ]
  },
  {
   "cell_type": "code",
   "execution_count": 153,
   "id": "cc51119c",
   "metadata": {},
   "outputs": [
    {
     "data": {
      "text/plain": [
       "2.742"
      ]
     },
     "execution_count": 153,
     "metadata": {},
     "output_type": "execute_result"
    }
   ],
   "source": [
    "(df['appear'] == 0).mean() * 100"
   ]
  },
  {
   "cell_type": "code",
   "execution_count": null,
   "id": "c6ae14bb",
   "metadata": {},
   "outputs": [],
   "source": [
    "# # How likely is it that a food truck will show up sometime this week?\n",
    "# trucks = np.random.choice([1,0], size=(100_000, 7), p=[.7,.3])\n",
    "# df = pd.DataFrame(trucks)\n",
    "\n",
    "# df['appear'] = df.sum(axis=1)\n",
    "# (df.appear > 0).mean()"
   ]
  },
  {
   "cell_type": "markdown",
   "id": "a5eced31",
   "metadata": {},
   "source": [
    "How likely is it that a food truck will show up sometime this week?"
   ]
  },
  {
   "cell_type": "code",
   "execution_count": 156,
   "id": "91af717e",
   "metadata": {},
   "outputs": [
    {
     "data": {
      "text/html": [
       "<div>\n",
       "<style scoped>\n",
       "    .dataframe tbody tr th:only-of-type {\n",
       "        vertical-align: middle;\n",
       "    }\n",
       "\n",
       "    .dataframe tbody tr th {\n",
       "        vertical-align: top;\n",
       "    }\n",
       "\n",
       "    .dataframe thead th {\n",
       "        text-align: right;\n",
       "    }\n",
       "</style>\n",
       "<table border=\"1\" class=\"dataframe\">\n",
       "  <thead>\n",
       "    <tr style=\"text-align: right;\">\n",
       "      <th></th>\n",
       "      <th>0</th>\n",
       "      <th>1</th>\n",
       "      <th>2</th>\n",
       "      <th>3</th>\n",
       "      <th>4</th>\n",
       "      <th>5</th>\n",
       "      <th>6</th>\n",
       "    </tr>\n",
       "  </thead>\n",
       "  <tbody>\n",
       "    <tr>\n",
       "      <th>0</th>\n",
       "      <td>1</td>\n",
       "      <td>0</td>\n",
       "      <td>0</td>\n",
       "      <td>1</td>\n",
       "      <td>1</td>\n",
       "      <td>1</td>\n",
       "      <td>1</td>\n",
       "    </tr>\n",
       "    <tr>\n",
       "      <th>1</th>\n",
       "      <td>0</td>\n",
       "      <td>0</td>\n",
       "      <td>1</td>\n",
       "      <td>1</td>\n",
       "      <td>0</td>\n",
       "      <td>1</td>\n",
       "      <td>1</td>\n",
       "    </tr>\n",
       "    <tr>\n",
       "      <th>2</th>\n",
       "      <td>0</td>\n",
       "      <td>1</td>\n",
       "      <td>1</td>\n",
       "      <td>1</td>\n",
       "      <td>1</td>\n",
       "      <td>0</td>\n",
       "      <td>1</td>\n",
       "    </tr>\n",
       "    <tr>\n",
       "      <th>3</th>\n",
       "      <td>1</td>\n",
       "      <td>1</td>\n",
       "      <td>1</td>\n",
       "      <td>1</td>\n",
       "      <td>1</td>\n",
       "      <td>1</td>\n",
       "      <td>0</td>\n",
       "    </tr>\n",
       "    <tr>\n",
       "      <th>4</th>\n",
       "      <td>1</td>\n",
       "      <td>1</td>\n",
       "      <td>1</td>\n",
       "      <td>1</td>\n",
       "      <td>1</td>\n",
       "      <td>0</td>\n",
       "      <td>0</td>\n",
       "    </tr>\n",
       "  </tbody>\n",
       "</table>\n",
       "</div>"
      ],
      "text/plain": [
       "   0  1  2  3  4  5  6\n",
       "0  1  0  0  1  1  1  1\n",
       "1  0  0  1  1  0  1  1\n",
       "2  0  1  1  1  1  0  1\n",
       "3  1  1  1  1  1  1  0\n",
       "4  1  1  1  1  1  0  0"
      ]
     },
     "execution_count": 156,
     "metadata": {},
     "output_type": "execute_result"
    }
   ],
   "source": [
    "trucks = np.random.choice([1, 0], size=(100_000, 7), p=truck_chance)\n",
    "df = pd.DataFrame(trucks)\n",
    "df.head()"
   ]
  },
  {
   "cell_type": "code",
   "execution_count": 158,
   "id": "300e8fa6",
   "metadata": {},
   "outputs": [
    {
     "data": {
      "text/html": [
       "<div>\n",
       "<style scoped>\n",
       "    .dataframe tbody tr th:only-of-type {\n",
       "        vertical-align: middle;\n",
       "    }\n",
       "\n",
       "    .dataframe tbody tr th {\n",
       "        vertical-align: top;\n",
       "    }\n",
       "\n",
       "    .dataframe thead th {\n",
       "        text-align: right;\n",
       "    }\n",
       "</style>\n",
       "<table border=\"1\" class=\"dataframe\">\n",
       "  <thead>\n",
       "    <tr style=\"text-align: right;\">\n",
       "      <th></th>\n",
       "      <th>0</th>\n",
       "      <th>1</th>\n",
       "      <th>2</th>\n",
       "      <th>3</th>\n",
       "      <th>4</th>\n",
       "      <th>5</th>\n",
       "      <th>6</th>\n",
       "      <th>appear</th>\n",
       "    </tr>\n",
       "  </thead>\n",
       "  <tbody>\n",
       "    <tr>\n",
       "      <th>0</th>\n",
       "      <td>1</td>\n",
       "      <td>0</td>\n",
       "      <td>0</td>\n",
       "      <td>1</td>\n",
       "      <td>1</td>\n",
       "      <td>1</td>\n",
       "      <td>1</td>\n",
       "      <td>10</td>\n",
       "    </tr>\n",
       "    <tr>\n",
       "      <th>1</th>\n",
       "      <td>0</td>\n",
       "      <td>0</td>\n",
       "      <td>1</td>\n",
       "      <td>1</td>\n",
       "      <td>0</td>\n",
       "      <td>1</td>\n",
       "      <td>1</td>\n",
       "      <td>8</td>\n",
       "    </tr>\n",
       "    <tr>\n",
       "      <th>2</th>\n",
       "      <td>0</td>\n",
       "      <td>1</td>\n",
       "      <td>1</td>\n",
       "      <td>1</td>\n",
       "      <td>1</td>\n",
       "      <td>0</td>\n",
       "      <td>1</td>\n",
       "      <td>10</td>\n",
       "    </tr>\n",
       "    <tr>\n",
       "      <th>3</th>\n",
       "      <td>1</td>\n",
       "      <td>1</td>\n",
       "      <td>1</td>\n",
       "      <td>1</td>\n",
       "      <td>1</td>\n",
       "      <td>1</td>\n",
       "      <td>0</td>\n",
       "      <td>12</td>\n",
       "    </tr>\n",
       "    <tr>\n",
       "      <th>4</th>\n",
       "      <td>1</td>\n",
       "      <td>1</td>\n",
       "      <td>1</td>\n",
       "      <td>1</td>\n",
       "      <td>1</td>\n",
       "      <td>0</td>\n",
       "      <td>0</td>\n",
       "      <td>10</td>\n",
       "    </tr>\n",
       "  </tbody>\n",
       "</table>\n",
       "</div>"
      ],
      "text/plain": [
       "   0  1  2  3  4  5  6  appear\n",
       "0  1  0  0  1  1  1  1      10\n",
       "1  0  0  1  1  0  1  1       8\n",
       "2  0  1  1  1  1  0  1      10\n",
       "3  1  1  1  1  1  1  0      12\n",
       "4  1  1  1  1  1  0  0      10"
      ]
     },
     "execution_count": 158,
     "metadata": {},
     "output_type": "execute_result"
    }
   ],
   "source": [
    "df['appear'] = df.sum(axis = 1)\n",
    "df.head()"
   ]
  },
  {
   "cell_type": "code",
   "execution_count": 159,
   "id": "3dae96dd",
   "metadata": {},
   "outputs": [
    {
     "data": {
      "text/plain": [
       "0.99974"
      ]
     },
     "execution_count": 159,
     "metadata": {},
     "output_type": "execute_result"
    }
   ],
   "source": [
    "(df['appear'] > 0).mean()"
   ]
  },
  {
   "cell_type": "markdown",
   "id": "c410f416",
   "metadata": {},
   "source": [
    "If 23 people are in the same room, what are the odds that two of them share a birthday? \n",
    "\n",
    "What if it's 20 people? 40?"
   ]
  },
  {
   "cell_type": "code",
   "execution_count": 176,
   "id": "59484dad",
   "metadata": {},
   "outputs": [
    {
     "data": {
      "text/html": [
       "<div>\n",
       "<style scoped>\n",
       "    .dataframe tbody tr th:only-of-type {\n",
       "        vertical-align: middle;\n",
       "    }\n",
       "\n",
       "    .dataframe tbody tr th {\n",
       "        vertical-align: top;\n",
       "    }\n",
       "\n",
       "    .dataframe thead th {\n",
       "        text-align: right;\n",
       "    }\n",
       "</style>\n",
       "<table border=\"1\" class=\"dataframe\">\n",
       "  <thead>\n",
       "    <tr style=\"text-align: right;\">\n",
       "      <th></th>\n",
       "      <th>0</th>\n",
       "      <th>1</th>\n",
       "      <th>2</th>\n",
       "      <th>3</th>\n",
       "      <th>4</th>\n",
       "      <th>5</th>\n",
       "      <th>6</th>\n",
       "      <th>7</th>\n",
       "      <th>8</th>\n",
       "      <th>9</th>\n",
       "      <th>...</th>\n",
       "      <th>13</th>\n",
       "      <th>14</th>\n",
       "      <th>15</th>\n",
       "      <th>16</th>\n",
       "      <th>17</th>\n",
       "      <th>18</th>\n",
       "      <th>19</th>\n",
       "      <th>20</th>\n",
       "      <th>21</th>\n",
       "      <th>22</th>\n",
       "    </tr>\n",
       "  </thead>\n",
       "  <tbody>\n",
       "    <tr>\n",
       "      <th>0</th>\n",
       "      <td>70</td>\n",
       "      <td>325</td>\n",
       "      <td>335</td>\n",
       "      <td>46</td>\n",
       "      <td>66</td>\n",
       "      <td>349</td>\n",
       "      <td>185</td>\n",
       "      <td>59</td>\n",
       "      <td>46</td>\n",
       "      <td>273</td>\n",
       "      <td>...</td>\n",
       "      <td>345</td>\n",
       "      <td>212</td>\n",
       "      <td>364</td>\n",
       "      <td>301</td>\n",
       "      <td>7</td>\n",
       "      <td>88</td>\n",
       "      <td>280</td>\n",
       "      <td>222</td>\n",
       "      <td>123</td>\n",
       "      <td>9</td>\n",
       "    </tr>\n",
       "    <tr>\n",
       "      <th>1</th>\n",
       "      <td>286</td>\n",
       "      <td>66</td>\n",
       "      <td>123</td>\n",
       "      <td>65</td>\n",
       "      <td>208</td>\n",
       "      <td>214</td>\n",
       "      <td>305</td>\n",
       "      <td>286</td>\n",
       "      <td>325</td>\n",
       "      <td>96</td>\n",
       "      <td>...</td>\n",
       "      <td>87</td>\n",
       "      <td>296</td>\n",
       "      <td>140</td>\n",
       "      <td>294</td>\n",
       "      <td>294</td>\n",
       "      <td>38</td>\n",
       "      <td>337</td>\n",
       "      <td>39</td>\n",
       "      <td>27</td>\n",
       "      <td>278</td>\n",
       "    </tr>\n",
       "    <tr>\n",
       "      <th>2</th>\n",
       "      <td>258</td>\n",
       "      <td>262</td>\n",
       "      <td>258</td>\n",
       "      <td>226</td>\n",
       "      <td>139</td>\n",
       "      <td>140</td>\n",
       "      <td>119</td>\n",
       "      <td>171</td>\n",
       "      <td>250</td>\n",
       "      <td>189</td>\n",
       "      <td>...</td>\n",
       "      <td>177</td>\n",
       "      <td>32</td>\n",
       "      <td>228</td>\n",
       "      <td>22</td>\n",
       "      <td>317</td>\n",
       "      <td>84</td>\n",
       "      <td>228</td>\n",
       "      <td>108</td>\n",
       "      <td>180</td>\n",
       "      <td>115</td>\n",
       "    </tr>\n",
       "    <tr>\n",
       "      <th>3</th>\n",
       "      <td>127</td>\n",
       "      <td>70</td>\n",
       "      <td>93</td>\n",
       "      <td>227</td>\n",
       "      <td>171</td>\n",
       "      <td>315</td>\n",
       "      <td>214</td>\n",
       "      <td>184</td>\n",
       "      <td>228</td>\n",
       "      <td>240</td>\n",
       "      <td>...</td>\n",
       "      <td>143</td>\n",
       "      <td>195</td>\n",
       "      <td>274</td>\n",
       "      <td>268</td>\n",
       "      <td>357</td>\n",
       "      <td>70</td>\n",
       "      <td>134</td>\n",
       "      <td>129</td>\n",
       "      <td>70</td>\n",
       "      <td>3</td>\n",
       "    </tr>\n",
       "    <tr>\n",
       "      <th>4</th>\n",
       "      <td>249</td>\n",
       "      <td>114</td>\n",
       "      <td>1</td>\n",
       "      <td>107</td>\n",
       "      <td>227</td>\n",
       "      <td>225</td>\n",
       "      <td>354</td>\n",
       "      <td>235</td>\n",
       "      <td>338</td>\n",
       "      <td>257</td>\n",
       "      <td>...</td>\n",
       "      <td>121</td>\n",
       "      <td>122</td>\n",
       "      <td>277</td>\n",
       "      <td>231</td>\n",
       "      <td>110</td>\n",
       "      <td>345</td>\n",
       "      <td>67</td>\n",
       "      <td>208</td>\n",
       "      <td>43</td>\n",
       "      <td>89</td>\n",
       "    </tr>\n",
       "  </tbody>\n",
       "</table>\n",
       "<p>5 rows × 23 columns</p>\n",
       "</div>"
      ],
      "text/plain": [
       "    0    1    2    3    4    5    6    7    8    9   ...   13   14   15   16  \\\n",
       "0   70  325  335   46   66  349  185   59   46  273  ...  345  212  364  301   \n",
       "1  286   66  123   65  208  214  305  286  325   96  ...   87  296  140  294   \n",
       "2  258  262  258  226  139  140  119  171  250  189  ...  177   32  228   22   \n",
       "3  127   70   93  227  171  315  214  184  228  240  ...  143  195  274  268   \n",
       "4  249  114    1  107  227  225  354  235  338  257  ...  121  122  277  231   \n",
       "\n",
       "    17   18   19   20   21   22  \n",
       "0    7   88  280  222  123    9  \n",
       "1  294   38  337   39   27  278  \n",
       "2  317   84  228  108  180  115  \n",
       "3  357   70  134  129   70    3  \n",
       "4  110  345   67  208   43   89  \n",
       "\n",
       "[5 rows x 23 columns]"
      ]
     },
     "execution_count": 176,
     "metadata": {},
     "output_type": "execute_result"
    }
   ],
   "source": [
    "n_trials = 100000 # rows\n",
    "n_people = 23 # columns\n",
    "\n",
    "birthday = np.random.choice(range(1,366), size=(n_trials, n_people))\n",
    "df_birthday = pd.DataFrame(birthday)\n",
    "df_birthday.head()"
   ]
  },
  {
   "cell_type": "code",
   "execution_count": 183,
   "id": "c6e7f4fa",
   "metadata": {},
   "outputs": [
    {
     "data": {
      "text/html": [
       "<div>\n",
       "<style scoped>\n",
       "    .dataframe tbody tr th:only-of-type {\n",
       "        vertical-align: middle;\n",
       "    }\n",
       "\n",
       "    .dataframe tbody tr th {\n",
       "        vertical-align: top;\n",
       "    }\n",
       "\n",
       "    .dataframe thead th {\n",
       "        text-align: right;\n",
       "    }\n",
       "</style>\n",
       "<table border=\"1\" class=\"dataframe\">\n",
       "  <thead>\n",
       "    <tr style=\"text-align: right;\">\n",
       "      <th></th>\n",
       "      <th>0</th>\n",
       "      <th>1</th>\n",
       "      <th>2</th>\n",
       "      <th>3</th>\n",
       "      <th>4</th>\n",
       "      <th>5</th>\n",
       "      <th>6</th>\n",
       "      <th>7</th>\n",
       "      <th>8</th>\n",
       "      <th>9</th>\n",
       "      <th>...</th>\n",
       "      <th>15</th>\n",
       "      <th>16</th>\n",
       "      <th>17</th>\n",
       "      <th>18</th>\n",
       "      <th>19</th>\n",
       "      <th>20</th>\n",
       "      <th>21</th>\n",
       "      <th>22</th>\n",
       "      <th>unique</th>\n",
       "      <th>n_unique</th>\n",
       "    </tr>\n",
       "  </thead>\n",
       "  <tbody>\n",
       "    <tr>\n",
       "      <th>0</th>\n",
       "      <td>70</td>\n",
       "      <td>325</td>\n",
       "      <td>335</td>\n",
       "      <td>46</td>\n",
       "      <td>66</td>\n",
       "      <td>349</td>\n",
       "      <td>185</td>\n",
       "      <td>59</td>\n",
       "      <td>46</td>\n",
       "      <td>273</td>\n",
       "      <td>...</td>\n",
       "      <td>364</td>\n",
       "      <td>301</td>\n",
       "      <td>7</td>\n",
       "      <td>88</td>\n",
       "      <td>280</td>\n",
       "      <td>222</td>\n",
       "      <td>123</td>\n",
       "      <td>9</td>\n",
       "      <td>4</td>\n",
       "      <td>4</td>\n",
       "    </tr>\n",
       "    <tr>\n",
       "      <th>1</th>\n",
       "      <td>286</td>\n",
       "      <td>66</td>\n",
       "      <td>123</td>\n",
       "      <td>65</td>\n",
       "      <td>208</td>\n",
       "      <td>214</td>\n",
       "      <td>305</td>\n",
       "      <td>286</td>\n",
       "      <td>325</td>\n",
       "      <td>96</td>\n",
       "      <td>...</td>\n",
       "      <td>140</td>\n",
       "      <td>294</td>\n",
       "      <td>294</td>\n",
       "      <td>38</td>\n",
       "      <td>337</td>\n",
       "      <td>39</td>\n",
       "      <td>27</td>\n",
       "      <td>278</td>\n",
       "      <td>4</td>\n",
       "      <td>4</td>\n",
       "    </tr>\n",
       "    <tr>\n",
       "      <th>2</th>\n",
       "      <td>258</td>\n",
       "      <td>262</td>\n",
       "      <td>258</td>\n",
       "      <td>226</td>\n",
       "      <td>139</td>\n",
       "      <td>140</td>\n",
       "      <td>119</td>\n",
       "      <td>171</td>\n",
       "      <td>250</td>\n",
       "      <td>189</td>\n",
       "      <td>...</td>\n",
       "      <td>228</td>\n",
       "      <td>22</td>\n",
       "      <td>317</td>\n",
       "      <td>84</td>\n",
       "      <td>228</td>\n",
       "      <td>108</td>\n",
       "      <td>180</td>\n",
       "      <td>115</td>\n",
       "      <td>4</td>\n",
       "      <td>4</td>\n",
       "    </tr>\n",
       "    <tr>\n",
       "      <th>3</th>\n",
       "      <td>127</td>\n",
       "      <td>70</td>\n",
       "      <td>93</td>\n",
       "      <td>227</td>\n",
       "      <td>171</td>\n",
       "      <td>315</td>\n",
       "      <td>214</td>\n",
       "      <td>184</td>\n",
       "      <td>228</td>\n",
       "      <td>240</td>\n",
       "      <td>...</td>\n",
       "      <td>274</td>\n",
       "      <td>268</td>\n",
       "      <td>357</td>\n",
       "      <td>70</td>\n",
       "      <td>134</td>\n",
       "      <td>129</td>\n",
       "      <td>70</td>\n",
       "      <td>3</td>\n",
       "      <td>4</td>\n",
       "      <td>4</td>\n",
       "    </tr>\n",
       "    <tr>\n",
       "      <th>4</th>\n",
       "      <td>249</td>\n",
       "      <td>114</td>\n",
       "      <td>1</td>\n",
       "      <td>107</td>\n",
       "      <td>227</td>\n",
       "      <td>225</td>\n",
       "      <td>354</td>\n",
       "      <td>235</td>\n",
       "      <td>338</td>\n",
       "      <td>257</td>\n",
       "      <td>...</td>\n",
       "      <td>277</td>\n",
       "      <td>231</td>\n",
       "      <td>110</td>\n",
       "      <td>345</td>\n",
       "      <td>67</td>\n",
       "      <td>208</td>\n",
       "      <td>43</td>\n",
       "      <td>89</td>\n",
       "      <td>4</td>\n",
       "      <td>4</td>\n",
       "    </tr>\n",
       "  </tbody>\n",
       "</table>\n",
       "<p>5 rows × 25 columns</p>\n",
       "</div>"
      ],
      "text/plain": [
       "     0    1    2    3    4    5    6    7    8    9  ...   15   16   17   18  \\\n",
       "0   70  325  335   46   66  349  185   59   46  273  ...  364  301    7   88   \n",
       "1  286   66  123   65  208  214  305  286  325   96  ...  140  294  294   38   \n",
       "2  258  262  258  226  139  140  119  171  250  189  ...  228   22  317   84   \n",
       "3  127   70   93  227  171  315  214  184  228  240  ...  274  268  357   70   \n",
       "4  249  114    1  107  227  225  354  235  338  257  ...  277  231  110  345   \n",
       "\n",
       "    19   20   21   22  unique  n_unique  \n",
       "0  280  222  123    9       4         4  \n",
       "1  337   39   27  278       4         4  \n",
       "2  228  108  180  115       4         4  \n",
       "3  134  129   70    3       4         4  \n",
       "4   67  208   43   89       4         4  \n",
       "\n",
       "[5 rows x 25 columns]"
      ]
     },
     "execution_count": 183,
     "metadata": {},
     "output_type": "execute_result"
    }
   ],
   "source": [
    "df_birthday['unique'] = df.nunique(axis=1)\n",
    "df_birthday.head()"
   ]
  },
  {
   "cell_type": "code",
   "execution_count": 180,
   "id": "3596dfa1",
   "metadata": {},
   "outputs": [
    {
     "data": {
      "text/plain": [
       "1.0"
      ]
     },
     "execution_count": 180,
     "metadata": {},
     "output_type": "execute_result"
    }
   ],
   "source": [
    "(df.unique != 23).mean()"
   ]
  },
  {
   "cell_type": "code",
   "execution_count": 191,
   "id": "a321444a",
   "metadata": {},
   "outputs": [
    {
     "ename": "KeyError",
     "evalue": "\"['n_unique'] not found in axis\"",
     "output_type": "error",
     "traceback": [
      "\u001b[0;31m---------------------------------------------------------------------------\u001b[0m",
      "\u001b[0;31mKeyError\u001b[0m                                  Traceback (most recent call last)",
      "Input \u001b[0;32mIn [191]\u001b[0m, in \u001b[0;36m<cell line: 1>\u001b[0;34m()\u001b[0m\n\u001b[0;32m----> 1\u001b[0m \u001b[43mdf\u001b[49m\u001b[38;5;241;43m.\u001b[39;49m\u001b[43mdrop\u001b[49m\u001b[43m(\u001b[49m\u001b[43mcolumns\u001b[49m\u001b[43m \u001b[49m\u001b[38;5;241;43m=\u001b[39;49m\u001b[43m \u001b[49m\u001b[43m[\u001b[49m\u001b[38;5;124;43m'\u001b[39;49m\u001b[38;5;124;43mn_unique\u001b[39;49m\u001b[38;5;124;43m'\u001b[39;49m\u001b[43m]\u001b[49m\u001b[43m)\u001b[49m\n",
      "File \u001b[0;32m/opt/homebrew/anaconda3/lib/python3.9/site-packages/pandas/util/_decorators.py:311\u001b[0m, in \u001b[0;36mdeprecate_nonkeyword_arguments.<locals>.decorate.<locals>.wrapper\u001b[0;34m(*args, **kwargs)\u001b[0m\n\u001b[1;32m    305\u001b[0m \u001b[38;5;28;01mif\u001b[39;00m \u001b[38;5;28mlen\u001b[39m(args) \u001b[38;5;241m>\u001b[39m num_allow_args:\n\u001b[1;32m    306\u001b[0m     warnings\u001b[38;5;241m.\u001b[39mwarn(\n\u001b[1;32m    307\u001b[0m         msg\u001b[38;5;241m.\u001b[39mformat(arguments\u001b[38;5;241m=\u001b[39marguments),\n\u001b[1;32m    308\u001b[0m         \u001b[38;5;167;01mFutureWarning\u001b[39;00m,\n\u001b[1;32m    309\u001b[0m         stacklevel\u001b[38;5;241m=\u001b[39mstacklevel,\n\u001b[1;32m    310\u001b[0m     )\n\u001b[0;32m--> 311\u001b[0m \u001b[38;5;28;01mreturn\u001b[39;00m \u001b[43mfunc\u001b[49m\u001b[43m(\u001b[49m\u001b[38;5;241;43m*\u001b[39;49m\u001b[43margs\u001b[49m\u001b[43m,\u001b[49m\u001b[43m \u001b[49m\u001b[38;5;241;43m*\u001b[39;49m\u001b[38;5;241;43m*\u001b[39;49m\u001b[43mkwargs\u001b[49m\u001b[43m)\u001b[49m\n",
      "File \u001b[0;32m/opt/homebrew/anaconda3/lib/python3.9/site-packages/pandas/core/frame.py:4957\u001b[0m, in \u001b[0;36mDataFrame.drop\u001b[0;34m(self, labels, axis, index, columns, level, inplace, errors)\u001b[0m\n\u001b[1;32m   4809\u001b[0m \u001b[38;5;129m@deprecate_nonkeyword_arguments\u001b[39m(version\u001b[38;5;241m=\u001b[39m\u001b[38;5;28;01mNone\u001b[39;00m, allowed_args\u001b[38;5;241m=\u001b[39m[\u001b[38;5;124m\"\u001b[39m\u001b[38;5;124mself\u001b[39m\u001b[38;5;124m\"\u001b[39m, \u001b[38;5;124m\"\u001b[39m\u001b[38;5;124mlabels\u001b[39m\u001b[38;5;124m\"\u001b[39m])\n\u001b[1;32m   4810\u001b[0m \u001b[38;5;28;01mdef\u001b[39;00m \u001b[38;5;21mdrop\u001b[39m(\n\u001b[1;32m   4811\u001b[0m     \u001b[38;5;28mself\u001b[39m,\n\u001b[0;32m   (...)\u001b[0m\n\u001b[1;32m   4818\u001b[0m     errors: \u001b[38;5;28mstr\u001b[39m \u001b[38;5;241m=\u001b[39m \u001b[38;5;124m\"\u001b[39m\u001b[38;5;124mraise\u001b[39m\u001b[38;5;124m\"\u001b[39m,\n\u001b[1;32m   4819\u001b[0m ):\n\u001b[1;32m   4820\u001b[0m \u001b[38;5;250m    \u001b[39m\u001b[38;5;124;03m\"\"\"\u001b[39;00m\n\u001b[1;32m   4821\u001b[0m \u001b[38;5;124;03m    Drop specified labels from rows or columns.\u001b[39;00m\n\u001b[1;32m   4822\u001b[0m \n\u001b[0;32m   (...)\u001b[0m\n\u001b[1;32m   4955\u001b[0m \u001b[38;5;124;03m            weight  1.0     0.8\u001b[39;00m\n\u001b[1;32m   4956\u001b[0m \u001b[38;5;124;03m    \"\"\"\u001b[39;00m\n\u001b[0;32m-> 4957\u001b[0m     \u001b[38;5;28;01mreturn\u001b[39;00m \u001b[38;5;28;43msuper\u001b[39;49m\u001b[43m(\u001b[49m\u001b[43m)\u001b[49m\u001b[38;5;241;43m.\u001b[39;49m\u001b[43mdrop\u001b[49m\u001b[43m(\u001b[49m\n\u001b[1;32m   4958\u001b[0m \u001b[43m        \u001b[49m\u001b[43mlabels\u001b[49m\u001b[38;5;241;43m=\u001b[39;49m\u001b[43mlabels\u001b[49m\u001b[43m,\u001b[49m\n\u001b[1;32m   4959\u001b[0m \u001b[43m        \u001b[49m\u001b[43maxis\u001b[49m\u001b[38;5;241;43m=\u001b[39;49m\u001b[43maxis\u001b[49m\u001b[43m,\u001b[49m\n\u001b[1;32m   4960\u001b[0m \u001b[43m        \u001b[49m\u001b[43mindex\u001b[49m\u001b[38;5;241;43m=\u001b[39;49m\u001b[43mindex\u001b[49m\u001b[43m,\u001b[49m\n\u001b[1;32m   4961\u001b[0m \u001b[43m        \u001b[49m\u001b[43mcolumns\u001b[49m\u001b[38;5;241;43m=\u001b[39;49m\u001b[43mcolumns\u001b[49m\u001b[43m,\u001b[49m\n\u001b[1;32m   4962\u001b[0m \u001b[43m        \u001b[49m\u001b[43mlevel\u001b[49m\u001b[38;5;241;43m=\u001b[39;49m\u001b[43mlevel\u001b[49m\u001b[43m,\u001b[49m\n\u001b[1;32m   4963\u001b[0m \u001b[43m        \u001b[49m\u001b[43minplace\u001b[49m\u001b[38;5;241;43m=\u001b[39;49m\u001b[43minplace\u001b[49m\u001b[43m,\u001b[49m\n\u001b[1;32m   4964\u001b[0m \u001b[43m        \u001b[49m\u001b[43merrors\u001b[49m\u001b[38;5;241;43m=\u001b[39;49m\u001b[43merrors\u001b[49m\u001b[43m,\u001b[49m\n\u001b[1;32m   4965\u001b[0m \u001b[43m    \u001b[49m\u001b[43m)\u001b[49m\n",
      "File \u001b[0;32m/opt/homebrew/anaconda3/lib/python3.9/site-packages/pandas/core/generic.py:4267\u001b[0m, in \u001b[0;36mNDFrame.drop\u001b[0;34m(self, labels, axis, index, columns, level, inplace, errors)\u001b[0m\n\u001b[1;32m   4265\u001b[0m \u001b[38;5;28;01mfor\u001b[39;00m axis, labels \u001b[38;5;129;01min\u001b[39;00m axes\u001b[38;5;241m.\u001b[39mitems():\n\u001b[1;32m   4266\u001b[0m     \u001b[38;5;28;01mif\u001b[39;00m labels \u001b[38;5;129;01mis\u001b[39;00m \u001b[38;5;129;01mnot\u001b[39;00m \u001b[38;5;28;01mNone\u001b[39;00m:\n\u001b[0;32m-> 4267\u001b[0m         obj \u001b[38;5;241m=\u001b[39m \u001b[43mobj\u001b[49m\u001b[38;5;241;43m.\u001b[39;49m\u001b[43m_drop_axis\u001b[49m\u001b[43m(\u001b[49m\u001b[43mlabels\u001b[49m\u001b[43m,\u001b[49m\u001b[43m \u001b[49m\u001b[43maxis\u001b[49m\u001b[43m,\u001b[49m\u001b[43m \u001b[49m\u001b[43mlevel\u001b[49m\u001b[38;5;241;43m=\u001b[39;49m\u001b[43mlevel\u001b[49m\u001b[43m,\u001b[49m\u001b[43m \u001b[49m\u001b[43merrors\u001b[49m\u001b[38;5;241;43m=\u001b[39;49m\u001b[43merrors\u001b[49m\u001b[43m)\u001b[49m\n\u001b[1;32m   4269\u001b[0m \u001b[38;5;28;01mif\u001b[39;00m inplace:\n\u001b[1;32m   4270\u001b[0m     \u001b[38;5;28mself\u001b[39m\u001b[38;5;241m.\u001b[39m_update_inplace(obj)\n",
      "File \u001b[0;32m/opt/homebrew/anaconda3/lib/python3.9/site-packages/pandas/core/generic.py:4311\u001b[0m, in \u001b[0;36mNDFrame._drop_axis\u001b[0;34m(self, labels, axis, level, errors, consolidate, only_slice)\u001b[0m\n\u001b[1;32m   4309\u001b[0m         new_axis \u001b[38;5;241m=\u001b[39m axis\u001b[38;5;241m.\u001b[39mdrop(labels, level\u001b[38;5;241m=\u001b[39mlevel, errors\u001b[38;5;241m=\u001b[39merrors)\n\u001b[1;32m   4310\u001b[0m     \u001b[38;5;28;01melse\u001b[39;00m:\n\u001b[0;32m-> 4311\u001b[0m         new_axis \u001b[38;5;241m=\u001b[39m \u001b[43maxis\u001b[49m\u001b[38;5;241;43m.\u001b[39;49m\u001b[43mdrop\u001b[49m\u001b[43m(\u001b[49m\u001b[43mlabels\u001b[49m\u001b[43m,\u001b[49m\u001b[43m \u001b[49m\u001b[43merrors\u001b[49m\u001b[38;5;241;43m=\u001b[39;49m\u001b[43merrors\u001b[49m\u001b[43m)\u001b[49m\n\u001b[1;32m   4312\u001b[0m     indexer \u001b[38;5;241m=\u001b[39m axis\u001b[38;5;241m.\u001b[39mget_indexer(new_axis)\n\u001b[1;32m   4314\u001b[0m \u001b[38;5;66;03m# Case for non-unique axis\u001b[39;00m\n\u001b[1;32m   4315\u001b[0m \u001b[38;5;28;01melse\u001b[39;00m:\n",
      "File \u001b[0;32m/opt/homebrew/anaconda3/lib/python3.9/site-packages/pandas/core/indexes/base.py:6661\u001b[0m, in \u001b[0;36mIndex.drop\u001b[0;34m(self, labels, errors)\u001b[0m\n\u001b[1;32m   6659\u001b[0m \u001b[38;5;28;01mif\u001b[39;00m mask\u001b[38;5;241m.\u001b[39many():\n\u001b[1;32m   6660\u001b[0m     \u001b[38;5;28;01mif\u001b[39;00m errors \u001b[38;5;241m!=\u001b[39m \u001b[38;5;124m\"\u001b[39m\u001b[38;5;124mignore\u001b[39m\u001b[38;5;124m\"\u001b[39m:\n\u001b[0;32m-> 6661\u001b[0m         \u001b[38;5;28;01mraise\u001b[39;00m \u001b[38;5;167;01mKeyError\u001b[39;00m(\u001b[38;5;124mf\u001b[39m\u001b[38;5;124m\"\u001b[39m\u001b[38;5;132;01m{\u001b[39;00m\u001b[38;5;28mlist\u001b[39m(labels[mask])\u001b[38;5;132;01m}\u001b[39;00m\u001b[38;5;124m not found in axis\u001b[39m\u001b[38;5;124m\"\u001b[39m)\n\u001b[1;32m   6662\u001b[0m     indexer \u001b[38;5;241m=\u001b[39m indexer[\u001b[38;5;241m~\u001b[39mmask]\n\u001b[1;32m   6663\u001b[0m \u001b[38;5;28;01mreturn\u001b[39;00m \u001b[38;5;28mself\u001b[39m\u001b[38;5;241m.\u001b[39mdelete(indexer)\n",
      "\u001b[0;31mKeyError\u001b[0m: \"['n_unique'] not found in axis\""
     ]
    }
   ],
   "source": [
    "df.drop(columns = ['n_unique'])"
   ]
  },
  {
   "cell_type": "code",
   "execution_count": 192,
   "id": "ae0b3e95",
   "metadata": {},
   "outputs": [
    {
     "data": {
      "text/html": [
       "<div>\n",
       "<style scoped>\n",
       "    .dataframe tbody tr th:only-of-type {\n",
       "        vertical-align: middle;\n",
       "    }\n",
       "\n",
       "    .dataframe tbody tr th {\n",
       "        vertical-align: top;\n",
       "    }\n",
       "\n",
       "    .dataframe thead th {\n",
       "        text-align: right;\n",
       "    }\n",
       "</style>\n",
       "<table border=\"1\" class=\"dataframe\">\n",
       "  <thead>\n",
       "    <tr style=\"text-align: right;\">\n",
       "      <th></th>\n",
       "      <th>0</th>\n",
       "      <th>1</th>\n",
       "      <th>2</th>\n",
       "      <th>3</th>\n",
       "      <th>4</th>\n",
       "      <th>5</th>\n",
       "      <th>6</th>\n",
       "      <th>7</th>\n",
       "      <th>8</th>\n",
       "      <th>9</th>\n",
       "      <th>...</th>\n",
       "      <th>15</th>\n",
       "      <th>16</th>\n",
       "      <th>17</th>\n",
       "      <th>18</th>\n",
       "      <th>19</th>\n",
       "      <th>20</th>\n",
       "      <th>21</th>\n",
       "      <th>22</th>\n",
       "      <th>unique</th>\n",
       "      <th>n_unique</th>\n",
       "    </tr>\n",
       "  </thead>\n",
       "  <tbody>\n",
       "    <tr>\n",
       "      <th>0</th>\n",
       "      <td>70</td>\n",
       "      <td>325</td>\n",
       "      <td>335</td>\n",
       "      <td>46</td>\n",
       "      <td>66</td>\n",
       "      <td>349</td>\n",
       "      <td>185</td>\n",
       "      <td>59</td>\n",
       "      <td>46</td>\n",
       "      <td>273</td>\n",
       "      <td>...</td>\n",
       "      <td>364</td>\n",
       "      <td>301</td>\n",
       "      <td>7</td>\n",
       "      <td>88</td>\n",
       "      <td>280</td>\n",
       "      <td>222</td>\n",
       "      <td>123</td>\n",
       "      <td>9</td>\n",
       "      <td>4</td>\n",
       "      <td>4</td>\n",
       "    </tr>\n",
       "    <tr>\n",
       "      <th>1</th>\n",
       "      <td>286</td>\n",
       "      <td>66</td>\n",
       "      <td>123</td>\n",
       "      <td>65</td>\n",
       "      <td>208</td>\n",
       "      <td>214</td>\n",
       "      <td>305</td>\n",
       "      <td>286</td>\n",
       "      <td>325</td>\n",
       "      <td>96</td>\n",
       "      <td>...</td>\n",
       "      <td>140</td>\n",
       "      <td>294</td>\n",
       "      <td>294</td>\n",
       "      <td>38</td>\n",
       "      <td>337</td>\n",
       "      <td>39</td>\n",
       "      <td>27</td>\n",
       "      <td>278</td>\n",
       "      <td>4</td>\n",
       "      <td>4</td>\n",
       "    </tr>\n",
       "    <tr>\n",
       "      <th>2</th>\n",
       "      <td>258</td>\n",
       "      <td>262</td>\n",
       "      <td>258</td>\n",
       "      <td>226</td>\n",
       "      <td>139</td>\n",
       "      <td>140</td>\n",
       "      <td>119</td>\n",
       "      <td>171</td>\n",
       "      <td>250</td>\n",
       "      <td>189</td>\n",
       "      <td>...</td>\n",
       "      <td>228</td>\n",
       "      <td>22</td>\n",
       "      <td>317</td>\n",
       "      <td>84</td>\n",
       "      <td>228</td>\n",
       "      <td>108</td>\n",
       "      <td>180</td>\n",
       "      <td>115</td>\n",
       "      <td>4</td>\n",
       "      <td>4</td>\n",
       "    </tr>\n",
       "    <tr>\n",
       "      <th>3</th>\n",
       "      <td>127</td>\n",
       "      <td>70</td>\n",
       "      <td>93</td>\n",
       "      <td>227</td>\n",
       "      <td>171</td>\n",
       "      <td>315</td>\n",
       "      <td>214</td>\n",
       "      <td>184</td>\n",
       "      <td>228</td>\n",
       "      <td>240</td>\n",
       "      <td>...</td>\n",
       "      <td>274</td>\n",
       "      <td>268</td>\n",
       "      <td>357</td>\n",
       "      <td>70</td>\n",
       "      <td>134</td>\n",
       "      <td>129</td>\n",
       "      <td>70</td>\n",
       "      <td>3</td>\n",
       "      <td>4</td>\n",
       "      <td>4</td>\n",
       "    </tr>\n",
       "    <tr>\n",
       "      <th>4</th>\n",
       "      <td>249</td>\n",
       "      <td>114</td>\n",
       "      <td>1</td>\n",
       "      <td>107</td>\n",
       "      <td>227</td>\n",
       "      <td>225</td>\n",
       "      <td>354</td>\n",
       "      <td>235</td>\n",
       "      <td>338</td>\n",
       "      <td>257</td>\n",
       "      <td>...</td>\n",
       "      <td>277</td>\n",
       "      <td>231</td>\n",
       "      <td>110</td>\n",
       "      <td>345</td>\n",
       "      <td>67</td>\n",
       "      <td>208</td>\n",
       "      <td>43</td>\n",
       "      <td>89</td>\n",
       "      <td>4</td>\n",
       "      <td>4</td>\n",
       "    </tr>\n",
       "    <tr>\n",
       "      <th>...</th>\n",
       "      <td>...</td>\n",
       "      <td>...</td>\n",
       "      <td>...</td>\n",
       "      <td>...</td>\n",
       "      <td>...</td>\n",
       "      <td>...</td>\n",
       "      <td>...</td>\n",
       "      <td>...</td>\n",
       "      <td>...</td>\n",
       "      <td>...</td>\n",
       "      <td>...</td>\n",
       "      <td>...</td>\n",
       "      <td>...</td>\n",
       "      <td>...</td>\n",
       "      <td>...</td>\n",
       "      <td>...</td>\n",
       "      <td>...</td>\n",
       "      <td>...</td>\n",
       "      <td>...</td>\n",
       "      <td>...</td>\n",
       "      <td>...</td>\n",
       "    </tr>\n",
       "    <tr>\n",
       "      <th>99995</th>\n",
       "      <td>126</td>\n",
       "      <td>364</td>\n",
       "      <td>1</td>\n",
       "      <td>289</td>\n",
       "      <td>264</td>\n",
       "      <td>216</td>\n",
       "      <td>241</td>\n",
       "      <td>28</td>\n",
       "      <td>364</td>\n",
       "      <td>7</td>\n",
       "      <td>...</td>\n",
       "      <td>294</td>\n",
       "      <td>213</td>\n",
       "      <td>264</td>\n",
       "      <td>141</td>\n",
       "      <td>298</td>\n",
       "      <td>334</td>\n",
       "      <td>113</td>\n",
       "      <td>110</td>\n",
       "      <td>4</td>\n",
       "      <td>4</td>\n",
       "    </tr>\n",
       "    <tr>\n",
       "      <th>99996</th>\n",
       "      <td>111</td>\n",
       "      <td>340</td>\n",
       "      <td>303</td>\n",
       "      <td>318</td>\n",
       "      <td>320</td>\n",
       "      <td>247</td>\n",
       "      <td>172</td>\n",
       "      <td>129</td>\n",
       "      <td>48</td>\n",
       "      <td>253</td>\n",
       "      <td>...</td>\n",
       "      <td>355</td>\n",
       "      <td>342</td>\n",
       "      <td>250</td>\n",
       "      <td>1</td>\n",
       "      <td>354</td>\n",
       "      <td>116</td>\n",
       "      <td>11</td>\n",
       "      <td>331</td>\n",
       "      <td>4</td>\n",
       "      <td>4</td>\n",
       "    </tr>\n",
       "    <tr>\n",
       "      <th>99997</th>\n",
       "      <td>5</td>\n",
       "      <td>303</td>\n",
       "      <td>295</td>\n",
       "      <td>16</td>\n",
       "      <td>321</td>\n",
       "      <td>281</td>\n",
       "      <td>320</td>\n",
       "      <td>109</td>\n",
       "      <td>249</td>\n",
       "      <td>278</td>\n",
       "      <td>...</td>\n",
       "      <td>122</td>\n",
       "      <td>85</td>\n",
       "      <td>80</td>\n",
       "      <td>338</td>\n",
       "      <td>261</td>\n",
       "      <td>335</td>\n",
       "      <td>169</td>\n",
       "      <td>240</td>\n",
       "      <td>4</td>\n",
       "      <td>4</td>\n",
       "    </tr>\n",
       "    <tr>\n",
       "      <th>99998</th>\n",
       "      <td>297</td>\n",
       "      <td>154</td>\n",
       "      <td>285</td>\n",
       "      <td>243</td>\n",
       "      <td>79</td>\n",
       "      <td>166</td>\n",
       "      <td>93</td>\n",
       "      <td>130</td>\n",
       "      <td>68</td>\n",
       "      <td>305</td>\n",
       "      <td>...</td>\n",
       "      <td>106</td>\n",
       "      <td>218</td>\n",
       "      <td>135</td>\n",
       "      <td>114</td>\n",
       "      <td>307</td>\n",
       "      <td>147</td>\n",
       "      <td>88</td>\n",
       "      <td>191</td>\n",
       "      <td>3</td>\n",
       "      <td>3</td>\n",
       "    </tr>\n",
       "    <tr>\n",
       "      <th>99999</th>\n",
       "      <td>134</td>\n",
       "      <td>117</td>\n",
       "      <td>343</td>\n",
       "      <td>106</td>\n",
       "      <td>31</td>\n",
       "      <td>221</td>\n",
       "      <td>175</td>\n",
       "      <td>86</td>\n",
       "      <td>207</td>\n",
       "      <td>24</td>\n",
       "      <td>...</td>\n",
       "      <td>297</td>\n",
       "      <td>341</td>\n",
       "      <td>122</td>\n",
       "      <td>211</td>\n",
       "      <td>219</td>\n",
       "      <td>35</td>\n",
       "      <td>340</td>\n",
       "      <td>31</td>\n",
       "      <td>4</td>\n",
       "      <td>4</td>\n",
       "    </tr>\n",
       "  </tbody>\n",
       "</table>\n",
       "<p>100000 rows × 25 columns</p>\n",
       "</div>"
      ],
      "text/plain": [
       "         0    1    2    3    4    5    6    7    8    9  ...   15   16   17  \\\n",
       "0       70  325  335   46   66  349  185   59   46  273  ...  364  301    7   \n",
       "1      286   66  123   65  208  214  305  286  325   96  ...  140  294  294   \n",
       "2      258  262  258  226  139  140  119  171  250  189  ...  228   22  317   \n",
       "3      127   70   93  227  171  315  214  184  228  240  ...  274  268  357   \n",
       "4      249  114    1  107  227  225  354  235  338  257  ...  277  231  110   \n",
       "...    ...  ...  ...  ...  ...  ...  ...  ...  ...  ...  ...  ...  ...  ...   \n",
       "99995  126  364    1  289  264  216  241   28  364    7  ...  294  213  264   \n",
       "99996  111  340  303  318  320  247  172  129   48  253  ...  355  342  250   \n",
       "99997    5  303  295   16  321  281  320  109  249  278  ...  122   85   80   \n",
       "99998  297  154  285  243   79  166   93  130   68  305  ...  106  218  135   \n",
       "99999  134  117  343  106   31  221  175   86  207   24  ...  297  341  122   \n",
       "\n",
       "        18   19   20   21   22  unique  n_unique  \n",
       "0       88  280  222  123    9       4         4  \n",
       "1       38  337   39   27  278       4         4  \n",
       "2       84  228  108  180  115       4         4  \n",
       "3       70  134  129   70    3       4         4  \n",
       "4      345   67  208   43   89       4         4  \n",
       "...    ...  ...  ...  ...  ...     ...       ...  \n",
       "99995  141  298  334  113  110       4         4  \n",
       "99996    1  354  116   11  331       4         4  \n",
       "99997  338  261  335  169  240       4         4  \n",
       "99998  114  307  147   88  191       3         3  \n",
       "99999  211  219   35  340   31       4         4  \n",
       "\n",
       "[100000 rows x 25 columns]"
      ]
     },
     "execution_count": 192,
     "metadata": {},
     "output_type": "execute_result"
    }
   ],
   "source": [
    "df_birthday"
   ]
  }
 ],
 "metadata": {
  "kernelspec": {
   "display_name": "Python 3 (ipykernel)",
   "language": "python",
   "name": "python3"
  },
  "language_info": {
   "codemirror_mode": {
    "name": "ipython",
    "version": 3
   },
   "file_extension": ".py",
   "mimetype": "text/x-python",
   "name": "python",
   "nbconvert_exporter": "python",
   "pygments_lexer": "ipython3",
   "version": "3.9.13"
  }
 },
 "nbformat": 4,
 "nbformat_minor": 5
}
