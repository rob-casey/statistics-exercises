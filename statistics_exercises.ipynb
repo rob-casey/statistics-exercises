{
 "cells": [
  {
   "cell_type": "code",
   "execution_count": 1,
   "id": "5b110dd4",
   "metadata": {},
   "outputs": [],
   "source": [
    "import numpy as np\n",
    "import pandas as pd"
   ]
  },
  {
   "cell_type": "markdown",
   "id": "8eeac62c",
   "metadata": {},
   "source": [
    "How likely is it that you roll doubles when rolling two dice?"
   ]
  },
  {
   "cell_type": "code",
   "execution_count": 2,
   "id": "183f15d5",
   "metadata": {},
   "outputs": [
    {
     "data": {
      "text/plain": [
       "array([[4, 1],\n",
       "       [4, 6],\n",
       "       [2, 1],\n",
       "       ...,\n",
       "       [4, 5],\n",
       "       [2, 2],\n",
       "       [1, 4]])"
      ]
     },
     "execution_count": 2,
     "metadata": {},
     "output_type": "execute_result"
    }
   ],
   "source": [
    "n_trials = 100_000 # rows\n",
    "n_dice = 2 # columns\n",
    "\n",
    "rolls_array = np.random.choice([1, 2, 3, 4, 5, 6], n_trials * n_dice)\\\n",
    "        .reshape(n_trials, n_dice)\n",
    "\n",
    "rolls_array"
   ]
  },
  {
   "cell_type": "code",
   "execution_count": 3,
   "id": "781fd94b",
   "metadata": {},
   "outputs": [
    {
     "data": {
      "text/plain": [
       "0.16605"
      ]
     },
     "execution_count": 3,
     "metadata": {},
     "output_type": "execute_result"
    }
   ],
   "source": [
    "(rolls_array[:,0] == rolls_array[:,1]).mean()"
   ]
  },
  {
   "cell_type": "code",
   "execution_count": 4,
   "id": "157983cf",
   "metadata": {},
   "outputs": [
    {
     "data": {
      "text/html": [
       "<div>\n",
       "<style scoped>\n",
       "    .dataframe tbody tr th:only-of-type {\n",
       "        vertical-align: middle;\n",
       "    }\n",
       "\n",
       "    .dataframe tbody tr th {\n",
       "        vertical-align: top;\n",
       "    }\n",
       "\n",
       "    .dataframe thead th {\n",
       "        text-align: right;\n",
       "    }\n",
       "</style>\n",
       "<table border=\"1\" class=\"dataframe\">\n",
       "  <thead>\n",
       "    <tr style=\"text-align: right;\">\n",
       "      <th></th>\n",
       "      <th>0</th>\n",
       "      <th>1</th>\n",
       "      <th>die1</th>\n",
       "      <th>die2</th>\n",
       "    </tr>\n",
       "  </thead>\n",
       "  <tbody>\n",
       "    <tr>\n",
       "      <th>0</th>\n",
       "      <td>4</td>\n",
       "      <td>1</td>\n",
       "      <td>5</td>\n",
       "      <td>5</td>\n",
       "    </tr>\n",
       "    <tr>\n",
       "      <th>1</th>\n",
       "      <td>4</td>\n",
       "      <td>6</td>\n",
       "      <td>5</td>\n",
       "      <td>6</td>\n",
       "    </tr>\n",
       "    <tr>\n",
       "      <th>2</th>\n",
       "      <td>2</td>\n",
       "      <td>1</td>\n",
       "      <td>6</td>\n",
       "      <td>4</td>\n",
       "    </tr>\n",
       "    <tr>\n",
       "      <th>3</th>\n",
       "      <td>4</td>\n",
       "      <td>1</td>\n",
       "      <td>1</td>\n",
       "      <td>3</td>\n",
       "    </tr>\n",
       "    <tr>\n",
       "      <th>4</th>\n",
       "      <td>1</td>\n",
       "      <td>2</td>\n",
       "      <td>3</td>\n",
       "      <td>5</td>\n",
       "    </tr>\n",
       "    <tr>\n",
       "      <th>...</th>\n",
       "      <td>...</td>\n",
       "      <td>...</td>\n",
       "      <td>...</td>\n",
       "      <td>...</td>\n",
       "    </tr>\n",
       "    <tr>\n",
       "      <th>99995</th>\n",
       "      <td>4</td>\n",
       "      <td>6</td>\n",
       "      <td>1</td>\n",
       "      <td>6</td>\n",
       "    </tr>\n",
       "    <tr>\n",
       "      <th>99996</th>\n",
       "      <td>5</td>\n",
       "      <td>1</td>\n",
       "      <td>6</td>\n",
       "      <td>5</td>\n",
       "    </tr>\n",
       "    <tr>\n",
       "      <th>99997</th>\n",
       "      <td>4</td>\n",
       "      <td>5</td>\n",
       "      <td>1</td>\n",
       "      <td>6</td>\n",
       "    </tr>\n",
       "    <tr>\n",
       "      <th>99998</th>\n",
       "      <td>2</td>\n",
       "      <td>2</td>\n",
       "      <td>5</td>\n",
       "      <td>2</td>\n",
       "    </tr>\n",
       "    <tr>\n",
       "      <th>99999</th>\n",
       "      <td>1</td>\n",
       "      <td>4</td>\n",
       "      <td>5</td>\n",
       "      <td>1</td>\n",
       "    </tr>\n",
       "  </tbody>\n",
       "</table>\n",
       "<p>100000 rows × 4 columns</p>\n",
       "</div>"
      ],
      "text/plain": [
       "       0  1  die1  die2\n",
       "0      4  1     5     5\n",
       "1      4  6     5     6\n",
       "2      2  1     6     4\n",
       "3      4  1     1     3\n",
       "4      1  2     3     5\n",
       "...   .. ..   ...   ...\n",
       "99995  4  6     1     6\n",
       "99996  5  1     6     5\n",
       "99997  4  5     1     6\n",
       "99998  2  2     5     2\n",
       "99999  1  4     5     1\n",
       "\n",
       "[100000 rows x 4 columns]"
      ]
     },
     "execution_count": 4,
     "metadata": {},
     "output_type": "execute_result"
    }
   ],
   "source": [
    "# pandas solution\n",
    "\n",
    "rolls_df = pd.DataFrame(rolls_array)\n",
    "rolls_df['die1'] = np.random.choice([1, 2, 3, 4, 5, 6], size = 100_000)\n",
    "rolls_df['die2'] = np.random.choice([1, 2, 3, 4, 5, 6], size = 100_000)\n",
    "rolls_df"
   ]
  },
  {
   "cell_type": "code",
   "execution_count": 5,
   "id": "aa1a90d8",
   "metadata": {},
   "outputs": [
    {
     "data": {
      "text/plain": [
       "0.16498"
      ]
     },
     "execution_count": 5,
     "metadata": {},
     "output_type": "execute_result"
    }
   ],
   "source": [
    "rolls_df['is_pair'] = (rolls_df.die1 == rolls_df.die2)\n",
    "rolls_df.is_pair.mean()"
   ]
  },
  {
   "cell_type": "code",
   "execution_count": 6,
   "id": "21d50e78",
   "metadata": {},
   "outputs": [
    {
     "data": {
      "text/plain": [
       "0.16554"
      ]
     },
     "execution_count": 6,
     "metadata": {},
     "output_type": "execute_result"
    }
   ],
   "source": [
    "# numpy solution\n",
    "\n",
    "a = np.random.choice([1, 2, 3, 4, 5, 6], size = 100_000)\n",
    "b = np.random.choice([1, 2, 3, 4, 5, 6], size = 100_000)\n",
    "(a == b).mean()"
   ]
  },
  {
   "cell_type": "markdown",
   "id": "74c071a5",
   "metadata": {},
   "source": [
    "If you flip 8 coins, what is the probability of getting exactly 3 heads? \n",
    "\n",
    "What is the probability of getting more than 3 heads?"
   ]
  },
  {
   "cell_type": "code",
   "execution_count": 7,
   "id": "46af1ace",
   "metadata": {},
   "outputs": [
    {
     "data": {
      "text/plain": [
       "array([[1, 1, 0, ..., 1, 1, 0],\n",
       "       [1, 0, 1, ..., 0, 1, 1],\n",
       "       [0, 0, 0, ..., 0, 0, 1],\n",
       "       ...,\n",
       "       [1, 0, 0, ..., 0, 1, 1],\n",
       "       [0, 0, 1, ..., 1, 1, 0],\n",
       "       [0, 0, 0, ..., 1, 0, 0]])"
      ]
     },
     "execution_count": 7,
     "metadata": {},
     "output_type": "execute_result"
    }
   ],
   "source": [
    "n_trials = nrows = 100_000\n",
    "n_coins = ncols = 8\n",
    "\n",
    "# 1 is heads, 0 is tails (encoded)\n",
    "coin_flips = np.random.choice([1, 0], n_trials * n_coins)\\\n",
    ".reshape(nrows, ncols)\n",
    "coin_flips"
   ]
  },
  {
   "cell_type": "code",
   "execution_count": 8,
   "id": "4bd21fbe",
   "metadata": {},
   "outputs": [
    {
     "data": {
      "text/plain": [
       "array([6, 5, 2, ..., 5, 4, 2])"
      ]
     },
     "execution_count": 8,
     "metadata": {},
     "output_type": "execute_result"
    }
   ],
   "source": [
    "#axis 1 is sum by row\n",
    "num_of_heads = coin_flips.sum(axis = 1)\n",
    "num_of_heads"
   ]
  },
  {
   "cell_type": "code",
   "execution_count": 9,
   "id": "9ad9781d",
   "metadata": {},
   "outputs": [
    {
     "data": {
      "text/plain": [
       "0.21872"
      ]
     },
     "execution_count": 9,
     "metadata": {},
     "output_type": "execute_result"
    }
   ],
   "source": [
    "(num_of_heads == 3).mean()"
   ]
  },
  {
   "cell_type": "code",
   "execution_count": 10,
   "id": "6fa19df6",
   "metadata": {},
   "outputs": [
    {
     "data": {
      "text/plain": [
       "0.63769"
      ]
     },
     "execution_count": 10,
     "metadata": {},
     "output_type": "execute_result"
    }
   ],
   "source": [
    "(num_of_heads > 3).mean()"
   ]
  },
  {
   "cell_type": "markdown",
   "id": "ef3c80b2",
   "metadata": {},
   "source": [
    "There are approximitely 3 web development cohorts for every 1 data science cohort at Codeup. \n",
    "Assuming that Codeup randomly selects an alumni to put on a billboard...\n",
    "\n",
    "what are the odds that the two billboards I drive past both have data science students on them?"
   ]
  },
  {
   "cell_type": "code",
   "execution_count": 12,
   "id": "8245e5c9",
   "metadata": {},
   "outputs": [
    {
     "data": {
      "text/plain": [
       "array([['webdev', 'webdev'],\n",
       "       ['webdev', 'datasci'],\n",
       "       ['webdev', 'webdev'],\n",
       "       ...,\n",
       "       ['webdev', 'datasci'],\n",
       "       ['webdev', 'webdev'],\n",
       "       ['webdev', 'webdev']], dtype='<U7')"
      ]
     },
     "execution_count": 12,
     "metadata": {},
     "output_type": "execute_result"
    }
   ],
   "source": [
    "n_trials = 100_000\n",
    "billboards = 2\n",
    "# web_dev = 3 (75%)\n",
    "# data_sci = 1 (25%)\n",
    "\n",
    "cohort_odds = np.random.choice(['webdev', 'datasci'], \n",
    "              size=(n_trials, billboards), \n",
    "              p=[.75, .25])\n",
    "cohort_odds"
   ]
  },
  {
   "cell_type": "code",
   "execution_count": 13,
   "id": "180b1bec",
   "metadata": {},
   "outputs": [
    {
     "data": {
      "text/html": [
       "<div>\n",
       "<style scoped>\n",
       "    .dataframe tbody tr th:only-of-type {\n",
       "        vertical-align: middle;\n",
       "    }\n",
       "\n",
       "    .dataframe tbody tr th {\n",
       "        vertical-align: top;\n",
       "    }\n",
       "\n",
       "    .dataframe thead th {\n",
       "        text-align: right;\n",
       "    }\n",
       "</style>\n",
       "<table border=\"1\" class=\"dataframe\">\n",
       "  <thead>\n",
       "    <tr style=\"text-align: right;\">\n",
       "      <th></th>\n",
       "      <th>first_billboard</th>\n",
       "      <th>second_billboard</th>\n",
       "    </tr>\n",
       "  </thead>\n",
       "  <tbody>\n",
       "    <tr>\n",
       "      <th>0</th>\n",
       "      <td>webdev</td>\n",
       "      <td>webdev</td>\n",
       "    </tr>\n",
       "    <tr>\n",
       "      <th>1</th>\n",
       "      <td>webdev</td>\n",
       "      <td>datasci</td>\n",
       "    </tr>\n",
       "    <tr>\n",
       "      <th>2</th>\n",
       "      <td>webdev</td>\n",
       "      <td>webdev</td>\n",
       "    </tr>\n",
       "    <tr>\n",
       "      <th>3</th>\n",
       "      <td>datasci</td>\n",
       "      <td>webdev</td>\n",
       "    </tr>\n",
       "    <tr>\n",
       "      <th>4</th>\n",
       "      <td>datasci</td>\n",
       "      <td>datasci</td>\n",
       "    </tr>\n",
       "    <tr>\n",
       "      <th>...</th>\n",
       "      <td>...</td>\n",
       "      <td>...</td>\n",
       "    </tr>\n",
       "    <tr>\n",
       "      <th>99995</th>\n",
       "      <td>datasci</td>\n",
       "      <td>webdev</td>\n",
       "    </tr>\n",
       "    <tr>\n",
       "      <th>99996</th>\n",
       "      <td>webdev</td>\n",
       "      <td>datasci</td>\n",
       "    </tr>\n",
       "    <tr>\n",
       "      <th>99997</th>\n",
       "      <td>webdev</td>\n",
       "      <td>datasci</td>\n",
       "    </tr>\n",
       "    <tr>\n",
       "      <th>99998</th>\n",
       "      <td>webdev</td>\n",
       "      <td>webdev</td>\n",
       "    </tr>\n",
       "    <tr>\n",
       "      <th>99999</th>\n",
       "      <td>webdev</td>\n",
       "      <td>webdev</td>\n",
       "    </tr>\n",
       "  </tbody>\n",
       "</table>\n",
       "<p>100000 rows × 2 columns</p>\n",
       "</div>"
      ],
      "text/plain": [
       "      first_billboard second_billboard\n",
       "0              webdev           webdev\n",
       "1              webdev          datasci\n",
       "2              webdev           webdev\n",
       "3             datasci           webdev\n",
       "4             datasci          datasci\n",
       "...               ...              ...\n",
       "99995         datasci           webdev\n",
       "99996          webdev          datasci\n",
       "99997          webdev          datasci\n",
       "99998          webdev           webdev\n",
       "99999          webdev           webdev\n",
       "\n",
       "[100000 rows x 2 columns]"
      ]
     },
     "execution_count": 13,
     "metadata": {},
     "output_type": "execute_result"
    }
   ],
   "source": [
    "cohort_df = pd.DataFrame(cohort_odds)\n",
    "cohort_df.columns = ['first_billboard', 'second_billboard']\n",
    "cohort_df"
   ]
  },
  {
   "cell_type": "code",
   "execution_count": 14,
   "id": "d0929b62",
   "metadata": {},
   "outputs": [
    {
     "data": {
      "text/html": [
       "<div>\n",
       "<style scoped>\n",
       "    .dataframe tbody tr th:only-of-type {\n",
       "        vertical-align: middle;\n",
       "    }\n",
       "\n",
       "    .dataframe tbody tr th {\n",
       "        vertical-align: top;\n",
       "    }\n",
       "\n",
       "    .dataframe thead th {\n",
       "        text-align: right;\n",
       "    }\n",
       "</style>\n",
       "<table border=\"1\" class=\"dataframe\">\n",
       "  <thead>\n",
       "    <tr style=\"text-align: right;\">\n",
       "      <th></th>\n",
       "      <th>first_billboard</th>\n",
       "      <th>second_billboard</th>\n",
       "      <th>both_ds</th>\n",
       "    </tr>\n",
       "  </thead>\n",
       "  <tbody>\n",
       "    <tr>\n",
       "      <th>0</th>\n",
       "      <td>webdev</td>\n",
       "      <td>webdev</td>\n",
       "      <td>False</td>\n",
       "    </tr>\n",
       "    <tr>\n",
       "      <th>1</th>\n",
       "      <td>webdev</td>\n",
       "      <td>datasci</td>\n",
       "      <td>False</td>\n",
       "    </tr>\n",
       "    <tr>\n",
       "      <th>2</th>\n",
       "      <td>webdev</td>\n",
       "      <td>webdev</td>\n",
       "      <td>False</td>\n",
       "    </tr>\n",
       "    <tr>\n",
       "      <th>3</th>\n",
       "      <td>datasci</td>\n",
       "      <td>webdev</td>\n",
       "      <td>False</td>\n",
       "    </tr>\n",
       "    <tr>\n",
       "      <th>4</th>\n",
       "      <td>datasci</td>\n",
       "      <td>datasci</td>\n",
       "      <td>True</td>\n",
       "    </tr>\n",
       "    <tr>\n",
       "      <th>...</th>\n",
       "      <td>...</td>\n",
       "      <td>...</td>\n",
       "      <td>...</td>\n",
       "    </tr>\n",
       "    <tr>\n",
       "      <th>99995</th>\n",
       "      <td>datasci</td>\n",
       "      <td>webdev</td>\n",
       "      <td>False</td>\n",
       "    </tr>\n",
       "    <tr>\n",
       "      <th>99996</th>\n",
       "      <td>webdev</td>\n",
       "      <td>datasci</td>\n",
       "      <td>False</td>\n",
       "    </tr>\n",
       "    <tr>\n",
       "      <th>99997</th>\n",
       "      <td>webdev</td>\n",
       "      <td>datasci</td>\n",
       "      <td>False</td>\n",
       "    </tr>\n",
       "    <tr>\n",
       "      <th>99998</th>\n",
       "      <td>webdev</td>\n",
       "      <td>webdev</td>\n",
       "      <td>False</td>\n",
       "    </tr>\n",
       "    <tr>\n",
       "      <th>99999</th>\n",
       "      <td>webdev</td>\n",
       "      <td>webdev</td>\n",
       "      <td>False</td>\n",
       "    </tr>\n",
       "  </tbody>\n",
       "</table>\n",
       "<p>100000 rows × 3 columns</p>\n",
       "</div>"
      ],
      "text/plain": [
       "      first_billboard second_billboard  both_ds\n",
       "0              webdev           webdev    False\n",
       "1              webdev          datasci    False\n",
       "2              webdev           webdev    False\n",
       "3             datasci           webdev    False\n",
       "4             datasci          datasci     True\n",
       "...               ...              ...      ...\n",
       "99995         datasci           webdev    False\n",
       "99996          webdev          datasci    False\n",
       "99997          webdev          datasci    False\n",
       "99998          webdev           webdev    False\n",
       "99999          webdev           webdev    False\n",
       "\n",
       "[100000 rows x 3 columns]"
      ]
     },
     "execution_count": 14,
     "metadata": {},
     "output_type": "execute_result"
    }
   ],
   "source": [
    "cohort_df['both_ds'] = \\\n",
    "(cohort_df.first_billboard == 'datasci') & (cohort_df.second_billboard == 'datasci')\n",
    "cohort_df"
   ]
  },
  {
   "cell_type": "code",
   "execution_count": 15,
   "id": "6fea5ab3",
   "metadata": {},
   "outputs": [
    {
     "data": {
      "text/plain": [
       "0.06247"
      ]
     },
     "execution_count": 15,
     "metadata": {},
     "output_type": "execute_result"
    }
   ],
   "source": [
    "cohort_df['both_ds'].mean()"
   ]
  },
  {
   "cell_type": "markdown",
   "id": "29b06fcd",
   "metadata": {},
   "source": [
    "Codeup students buy, on average, 3 poptart packages with a standard deviation of 1.5 a day from the snack vending machine. \n",
    "\n",
    "If on monday the machine is restocked with 17 poptart packages, how likely is it that I will be able to buy some poptarts on Friday afternoon? \n",
    "\n",
    "(Remember, if you have mean and standard deviation, use the np.random.normal) You'll need to make a judgement call on how to handle some of your values"
   ]
  },
  {
   "cell_type": "code",
   "execution_count": 16,
   "id": "ff7544f1",
   "metadata": {},
   "outputs": [],
   "source": [
    "mean = 3 # packages\n",
    "st_dev = 1.5 # packages\n",
    "n_days = 5 # days\n",
    "restocked = 17 # packages\n",
    "mean_week = mean * n_days"
   ]
  },
  {
   "cell_type": "code",
   "execution_count": 17,
   "id": "727349e4",
   "metadata": {},
   "outputs": [],
   "source": [
    "n_weeks = 10000\n",
    "n_packages_per_day = np.round(np.random.normal(mean, st_dev, size=(n_weeks, n_days)))"
   ]
  },
  {
   "cell_type": "code",
   "execution_count": 18,
   "id": "1b4a0f95",
   "metadata": {},
   "outputs": [],
   "source": [
    "n_left_per_week = restocked - np.sum(n_packages_per_day[:, :4], axis=1)"
   ]
  },
  {
   "cell_type": "code",
   "execution_count": 19,
   "id": "82ea5db8",
   "metadata": {},
   "outputs": [
    {
     "data": {
      "text/plain": [
       "0.9308"
      ]
     },
     "execution_count": 19,
     "metadata": {},
     "output_type": "execute_result"
    }
   ],
   "source": [
    "n_left_mask = n_left_per_week > 0\n",
    "prob_left = np.sum(n_left_mask) / n_weeks\n",
    "prob_left"
   ]
  },
  {
   "cell_type": "markdown",
   "id": "2d600f82",
   "metadata": {},
   "source": [
    "Compare Heights\n",
    "\n",
    "Men have an average height of 178 cm and standard deviation of 8cm.\n",
    "\n",
    "Women have a mean of 170, sd = 6cm.\n",
    "\n",
    "Since you have means and standard deviations, you can use np.random.normal to generate observations.\n",
    "\n",
    "If a man and woman are chosen at random, what is the likelihood the woman is taller than the man?"
   ]
  },
  {
   "cell_type": "code",
   "execution_count": 20,
   "id": "1aee55b1",
   "metadata": {},
   "outputs": [
    {
     "data": {
      "text/plain": [
       "0.1945"
      ]
     },
     "execution_count": 20,
     "metadata": {},
     "output_type": "execute_result"
    }
   ],
   "source": [
    "men_mean = 178\n",
    "men_std_dev = 8\n",
    "women_mean = 170\n",
    "women_std_dev = 6\n",
    "n_choices = 10000\n",
    "\n",
    "n_men = np.round(np.random.normal(men_mean, men_std_dev, size=(n_choices)))\n",
    "n_women = np.round(np.random.normal(women_mean, women_std_dev, size=(n_choices)))\n",
    "\n",
    "(n_women > n_men).mean()"
   ]
  },
  {
   "cell_type": "markdown",
   "id": "693f126a",
   "metadata": {},
   "source": [
    "When installing anaconda on a student's computer, there's a 1 in 250 chance that the download is corrupted and the installation fails. \n",
    "\n",
    "What are the odds that after having 50 students download anaconda, no one has an installation issue? 100 students?"
   ]
  },
  {
   "cell_type": "code",
   "execution_count": 21,
   "id": "f208314c",
   "metadata": {},
   "outputs": [],
   "source": [
    "fail = 1 / 250\n",
    "success = 249/250\n",
    "chance = [success, fail]\n",
    "\n",
    "n_students = 50\n",
    "n_trials = 10000\n",
    "n_students_100 = 100\n",
    "n_students_150 = 150\n",
    "n_students_450 = 450"
   ]
  },
  {
   "cell_type": "code",
   "execution_count": 22,
   "id": "bdaed696",
   "metadata": {},
   "outputs": [
    {
     "data": {
      "text/plain": [
       "array([[1, 1, 1, ..., 1, 1, 1],\n",
       "       [1, 1, 1, ..., 1, 1, 1],\n",
       "       [1, 1, 1, ..., 1, 1, 1],\n",
       "       ...,\n",
       "       [1, 1, 1, ..., 1, 1, 1],\n",
       "       [1, 1, 1, ..., 1, 1, 1],\n",
       "       [1, 1, 1, ..., 1, 1, 1]])"
      ]
     },
     "execution_count": 22,
     "metadata": {},
     "output_type": "execute_result"
    }
   ],
   "source": [
    "download = np.random.choice([1,0], n_students * n_trials, p=chance)\\\n",
    "           .reshape(n_trials, n_students)\n",
    "download"
   ]
  },
  {
   "cell_type": "code",
   "execution_count": 23,
   "id": "0f5a771c",
   "metadata": {},
   "outputs": [
    {
     "data": {
      "text/plain": [
       "0.8196"
      ]
     },
     "execution_count": 23,
     "metadata": {},
     "output_type": "execute_result"
    }
   ],
   "source": [
    "(download.sum(axis = 1) == 50).mean()"
   ]
  },
  {
   "cell_type": "code",
   "execution_count": 24,
   "id": "1a07a552",
   "metadata": {},
   "outputs": [
    {
     "data": {
      "text/plain": [
       "array([[1, 1, 1, ..., 1, 1, 1],\n",
       "       [1, 1, 1, ..., 1, 1, 1],\n",
       "       [1, 1, 1, ..., 1, 1, 1],\n",
       "       ...,\n",
       "       [1, 1, 1, ..., 1, 1, 1],\n",
       "       [1, 1, 1, ..., 1, 1, 1],\n",
       "       [1, 1, 1, ..., 1, 1, 1]])"
      ]
     },
     "execution_count": 24,
     "metadata": {},
     "output_type": "execute_result"
    }
   ],
   "source": [
    "download_100 = np.random.choice([1,0], n_students_100 * n_trials, p=chance)\\\n",
    ".reshape(n_trials, n_students_100)\n",
    "download_100"
   ]
  },
  {
   "cell_type": "code",
   "execution_count": 25,
   "id": "4664bccf",
   "metadata": {},
   "outputs": [
    {
     "data": {
      "text/plain": [
       "0.6697"
      ]
     },
     "execution_count": 25,
     "metadata": {},
     "output_type": "execute_result"
    }
   ],
   "source": [
    "(download_100.sum(axis=1) == 100).mean()"
   ]
  },
  {
   "cell_type": "markdown",
   "id": "bc07bcb6",
   "metadata": {},
   "source": [
    "What is the probability that we observe an installation issue within the first 150 students that download anaconda?\n",
    "\n",
    "\n",
    "How likely is it that 450 students all download anaconda without an issue?"
   ]
  },
  {
   "cell_type": "code",
   "execution_count": 26,
   "id": "86d8c8e7",
   "metadata": {},
   "outputs": [
    {
     "data": {
      "text/plain": [
       "array([[1, 1, 1, ..., 1, 1, 1],\n",
       "       [1, 1, 1, ..., 1, 1, 1],\n",
       "       [1, 1, 1, ..., 1, 1, 1],\n",
       "       ...,\n",
       "       [1, 1, 1, ..., 0, 1, 1],\n",
       "       [1, 1, 1, ..., 1, 1, 1],\n",
       "       [1, 1, 1, ..., 1, 1, 1]])"
      ]
     },
     "execution_count": 26,
     "metadata": {},
     "output_type": "execute_result"
    }
   ],
   "source": [
    "download_450 = np.random.choice([1,0], n_students_450 * n_trials, p=chance)\\\n",
    ".reshape(n_trials, n_students_450)\n",
    "download_450"
   ]
  },
  {
   "cell_type": "code",
   "execution_count": 27,
   "id": "7d53dd73",
   "metadata": {},
   "outputs": [
    {
     "data": {
      "text/plain": [
       "0.1653"
      ]
     },
     "execution_count": 27,
     "metadata": {},
     "output_type": "execute_result"
    }
   ],
   "source": [
    "(download_450.sum(axis=1) == 450).mean()"
   ]
  },
  {
   "cell_type": "code",
   "execution_count": 28,
   "id": "6ca2d797",
   "metadata": {},
   "outputs": [
    {
     "data": {
      "text/plain": [
       "array([[1, 1, 1, ..., 1, 1, 1],\n",
       "       [1, 1, 1, ..., 1, 1, 1],\n",
       "       [1, 1, 1, ..., 1, 1, 1],\n",
       "       ...,\n",
       "       [1, 1, 1, ..., 1, 1, 1],\n",
       "       [1, 1, 1, ..., 1, 1, 0],\n",
       "       [1, 1, 1, ..., 1, 1, 1]])"
      ]
     },
     "execution_count": 28,
     "metadata": {},
     "output_type": "execute_result"
    }
   ],
   "source": [
    "download_150 = np.random.choice([1,0], n_students_150 * n_trials, p=chance)\\\n",
    ".reshape(n_trials, n_students_150)\n",
    "download_150"
   ]
  },
  {
   "cell_type": "code",
   "execution_count": 29,
   "id": "6aa6bfa5",
   "metadata": {},
   "outputs": [
    {
     "data": {
      "text/plain": [
       "0.451"
      ]
     },
     "execution_count": 29,
     "metadata": {},
     "output_type": "execute_result"
    }
   ],
   "source": [
    "(1 - (download_150.sum(axis = 1) == 150).mean()).round(3)"
   ]
  },
  {
   "cell_type": "markdown",
   "id": "2603995d",
   "metadata": {},
   "source": [
    "There's a 70% chance on any given day that there will be at least one food truck at Travis Park. \n",
    "\n",
    "However, you haven't seen a food truck there in 3 days. How unlikely is this?"
   ]
  },
  {
   "cell_type": "code",
   "execution_count": 30,
   "id": "f6f047e4",
   "metadata": {},
   "outputs": [
    {
     "data": {
      "text/plain": [
       "array([['none', 'truck', 'truck', ..., 'truck', 'truck', 'truck'],\n",
       "       ['truck', 'truck', 'truck', ..., 'none', 'truck', 'truck'],\n",
       "       ['truck', 'truck', 'truck', ..., 'truck', 'truck', 'none'],\n",
       "       ...,\n",
       "       ['truck', 'none', 'truck', ..., 'none', 'truck', 'none'],\n",
       "       ['truck', 'truck', 'truck', ..., 'none', 'truck', 'none'],\n",
       "       ['none', 'truck', 'truck', ..., 'none', 'truck', 'none']],\n",
       "      dtype='<U5')"
      ]
     },
     "execution_count": 30,
     "metadata": {},
     "output_type": "execute_result"
    }
   ],
   "source": [
    "n_trials = 10000\n",
    "shows = .70\n",
    "no_shows = .30\n",
    "truck_chance = [shows, no_shows]\n",
    "n_days = 7\n",
    "\n",
    "truck_arrives = np.random.choice(['truck', 'none'], n_trials * n_days, p=truck_chance)\\\n",
    ".reshape(n_trials, n_days)\n",
    "truck_arrives"
   ]
  },
  {
   "cell_type": "code",
   "execution_count": 31,
   "id": "e4543d5b",
   "metadata": {},
   "outputs": [
    {
     "data": {
      "text/plain": [
       "2.8000000000000003"
      ]
     },
     "execution_count": 31,
     "metadata": {},
     "output_type": "execute_result"
    }
   ],
   "source": [
    "((truck_arrives[:,0] == 'none') & (truck_arrives[:,1] == 'none')\\\n",
    "& (truck_arrives[:,2] == 'none')).mean() * 100"
   ]
  },
  {
   "cell_type": "code",
   "execution_count": 32,
   "id": "d3eae23e",
   "metadata": {},
   "outputs": [
    {
     "data": {
      "text/html": [
       "<div>\n",
       "<style scoped>\n",
       "    .dataframe tbody tr th:only-of-type {\n",
       "        vertical-align: middle;\n",
       "    }\n",
       "\n",
       "    .dataframe tbody tr th {\n",
       "        vertical-align: top;\n",
       "    }\n",
       "\n",
       "    .dataframe thead th {\n",
       "        text-align: right;\n",
       "    }\n",
       "</style>\n",
       "<table border=\"1\" class=\"dataframe\">\n",
       "  <thead>\n",
       "    <tr style=\"text-align: right;\">\n",
       "      <th></th>\n",
       "      <th>day_1</th>\n",
       "      <th>day_2</th>\n",
       "      <th>day_3</th>\n",
       "    </tr>\n",
       "  </thead>\n",
       "  <tbody>\n",
       "    <tr>\n",
       "      <th>0</th>\n",
       "      <td>1</td>\n",
       "      <td>0</td>\n",
       "      <td>0</td>\n",
       "    </tr>\n",
       "    <tr>\n",
       "      <th>1</th>\n",
       "      <td>1</td>\n",
       "      <td>1</td>\n",
       "      <td>1</td>\n",
       "    </tr>\n",
       "    <tr>\n",
       "      <th>2</th>\n",
       "      <td>0</td>\n",
       "      <td>1</td>\n",
       "      <td>0</td>\n",
       "    </tr>\n",
       "    <tr>\n",
       "      <th>3</th>\n",
       "      <td>1</td>\n",
       "      <td>1</td>\n",
       "      <td>1</td>\n",
       "    </tr>\n",
       "    <tr>\n",
       "      <th>4</th>\n",
       "      <td>1</td>\n",
       "      <td>1</td>\n",
       "      <td>0</td>\n",
       "    </tr>\n",
       "  </tbody>\n",
       "</table>\n",
       "</div>"
      ],
      "text/plain": [
       "   day_1  day_2  day_3\n",
       "0      1      0      0\n",
       "1      1      1      1\n",
       "2      0      1      0\n",
       "3      1      1      1\n",
       "4      1      1      0"
      ]
     },
     "execution_count": 32,
     "metadata": {},
     "output_type": "execute_result"
    }
   ],
   "source": [
    "trucks = np.random.choice([1,0], size=(100_000, 3), p=truck_chance)\n",
    "df = pd.DataFrame(trucks)\n",
    "df.columns = ['day_1', 'day_2', 'day_3']\n",
    "df.head()"
   ]
  },
  {
   "cell_type": "code",
   "execution_count": 33,
   "id": "b675e262",
   "metadata": {},
   "outputs": [
    {
     "data": {
      "text/html": [
       "<div>\n",
       "<style scoped>\n",
       "    .dataframe tbody tr th:only-of-type {\n",
       "        vertical-align: middle;\n",
       "    }\n",
       "\n",
       "    .dataframe tbody tr th {\n",
       "        vertical-align: top;\n",
       "    }\n",
       "\n",
       "    .dataframe thead th {\n",
       "        text-align: right;\n",
       "    }\n",
       "</style>\n",
       "<table border=\"1\" class=\"dataframe\">\n",
       "  <thead>\n",
       "    <tr style=\"text-align: right;\">\n",
       "      <th></th>\n",
       "      <th>day_1</th>\n",
       "      <th>day_2</th>\n",
       "      <th>day_3</th>\n",
       "      <th>appear</th>\n",
       "    </tr>\n",
       "  </thead>\n",
       "  <tbody>\n",
       "    <tr>\n",
       "      <th>0</th>\n",
       "      <td>1</td>\n",
       "      <td>0</td>\n",
       "      <td>0</td>\n",
       "      <td>1</td>\n",
       "    </tr>\n",
       "    <tr>\n",
       "      <th>1</th>\n",
       "      <td>1</td>\n",
       "      <td>1</td>\n",
       "      <td>1</td>\n",
       "      <td>3</td>\n",
       "    </tr>\n",
       "    <tr>\n",
       "      <th>2</th>\n",
       "      <td>0</td>\n",
       "      <td>1</td>\n",
       "      <td>0</td>\n",
       "      <td>1</td>\n",
       "    </tr>\n",
       "    <tr>\n",
       "      <th>3</th>\n",
       "      <td>1</td>\n",
       "      <td>1</td>\n",
       "      <td>1</td>\n",
       "      <td>3</td>\n",
       "    </tr>\n",
       "    <tr>\n",
       "      <th>4</th>\n",
       "      <td>1</td>\n",
       "      <td>1</td>\n",
       "      <td>0</td>\n",
       "      <td>2</td>\n",
       "    </tr>\n",
       "  </tbody>\n",
       "</table>\n",
       "</div>"
      ],
      "text/plain": [
       "   day_1  day_2  day_3  appear\n",
       "0      1      0      0       1\n",
       "1      1      1      1       3\n",
       "2      0      1      0       1\n",
       "3      1      1      1       3\n",
       "4      1      1      0       2"
      ]
     },
     "execution_count": 33,
     "metadata": {},
     "output_type": "execute_result"
    }
   ],
   "source": [
    "df['appear'] = df.day_1 + df.day_2 + df.day_3\n",
    "df.head()"
   ]
  },
  {
   "cell_type": "code",
   "execution_count": 34,
   "id": "334675e3",
   "metadata": {},
   "outputs": [
    {
     "data": {
      "text/plain": [
       "2.721"
      ]
     },
     "execution_count": 34,
     "metadata": {},
     "output_type": "execute_result"
    }
   ],
   "source": [
    "(df['appear'] == 0).mean() * 100"
   ]
  },
  {
   "cell_type": "code",
   "execution_count": 35,
   "id": "100d615e",
   "metadata": {},
   "outputs": [],
   "source": [
    "# # How likely is it that a food truck will show up sometime this week?\n",
    "# trucks = np.random.choice([1,0], size=(100_000, 7), p=[.7,.3])\n",
    "# df = pd.DataFrame(trucks)\n",
    "\n",
    "# df['appear'] = df.sum(axis=1)\n",
    "# (df.appear > 0).mean()"
   ]
  },
  {
   "cell_type": "markdown",
   "id": "b82e4680",
   "metadata": {},
   "source": [
    "How likely is it that a food truck will show up sometime this week?"
   ]
  },
  {
   "cell_type": "code",
   "execution_count": 36,
   "id": "b23560cf",
   "metadata": {},
   "outputs": [
    {
     "data": {
      "text/html": [
       "<div>\n",
       "<style scoped>\n",
       "    .dataframe tbody tr th:only-of-type {\n",
       "        vertical-align: middle;\n",
       "    }\n",
       "\n",
       "    .dataframe tbody tr th {\n",
       "        vertical-align: top;\n",
       "    }\n",
       "\n",
       "    .dataframe thead th {\n",
       "        text-align: right;\n",
       "    }\n",
       "</style>\n",
       "<table border=\"1\" class=\"dataframe\">\n",
       "  <thead>\n",
       "    <tr style=\"text-align: right;\">\n",
       "      <th></th>\n",
       "      <th>0</th>\n",
       "      <th>1</th>\n",
       "      <th>2</th>\n",
       "      <th>3</th>\n",
       "      <th>4</th>\n",
       "      <th>5</th>\n",
       "      <th>6</th>\n",
       "    </tr>\n",
       "  </thead>\n",
       "  <tbody>\n",
       "    <tr>\n",
       "      <th>0</th>\n",
       "      <td>1</td>\n",
       "      <td>1</td>\n",
       "      <td>1</td>\n",
       "      <td>1</td>\n",
       "      <td>1</td>\n",
       "      <td>0</td>\n",
       "      <td>1</td>\n",
       "    </tr>\n",
       "    <tr>\n",
       "      <th>1</th>\n",
       "      <td>1</td>\n",
       "      <td>1</td>\n",
       "      <td>0</td>\n",
       "      <td>1</td>\n",
       "      <td>1</td>\n",
       "      <td>1</td>\n",
       "      <td>1</td>\n",
       "    </tr>\n",
       "    <tr>\n",
       "      <th>2</th>\n",
       "      <td>1</td>\n",
       "      <td>0</td>\n",
       "      <td>1</td>\n",
       "      <td>1</td>\n",
       "      <td>1</td>\n",
       "      <td>0</td>\n",
       "      <td>1</td>\n",
       "    </tr>\n",
       "    <tr>\n",
       "      <th>3</th>\n",
       "      <td>1</td>\n",
       "      <td>0</td>\n",
       "      <td>1</td>\n",
       "      <td>1</td>\n",
       "      <td>0</td>\n",
       "      <td>1</td>\n",
       "      <td>1</td>\n",
       "    </tr>\n",
       "    <tr>\n",
       "      <th>4</th>\n",
       "      <td>1</td>\n",
       "      <td>1</td>\n",
       "      <td>1</td>\n",
       "      <td>0</td>\n",
       "      <td>1</td>\n",
       "      <td>0</td>\n",
       "      <td>1</td>\n",
       "    </tr>\n",
       "  </tbody>\n",
       "</table>\n",
       "</div>"
      ],
      "text/plain": [
       "   0  1  2  3  4  5  6\n",
       "0  1  1  1  1  1  0  1\n",
       "1  1  1  0  1  1  1  1\n",
       "2  1  0  1  1  1  0  1\n",
       "3  1  0  1  1  0  1  1\n",
       "4  1  1  1  0  1  0  1"
      ]
     },
     "execution_count": 36,
     "metadata": {},
     "output_type": "execute_result"
    }
   ],
   "source": [
    "trucks = np.random.choice([1, 0], size=(100_000, 7), p=truck_chance)\n",
    "df = pd.DataFrame(trucks)\n",
    "df.head()"
   ]
  },
  {
   "cell_type": "code",
   "execution_count": 37,
   "id": "b6957a1a",
   "metadata": {},
   "outputs": [
    {
     "data": {
      "text/html": [
       "<div>\n",
       "<style scoped>\n",
       "    .dataframe tbody tr th:only-of-type {\n",
       "        vertical-align: middle;\n",
       "    }\n",
       "\n",
       "    .dataframe tbody tr th {\n",
       "        vertical-align: top;\n",
       "    }\n",
       "\n",
       "    .dataframe thead th {\n",
       "        text-align: right;\n",
       "    }\n",
       "</style>\n",
       "<table border=\"1\" class=\"dataframe\">\n",
       "  <thead>\n",
       "    <tr style=\"text-align: right;\">\n",
       "      <th></th>\n",
       "      <th>0</th>\n",
       "      <th>1</th>\n",
       "      <th>2</th>\n",
       "      <th>3</th>\n",
       "      <th>4</th>\n",
       "      <th>5</th>\n",
       "      <th>6</th>\n",
       "      <th>appear</th>\n",
       "    </tr>\n",
       "  </thead>\n",
       "  <tbody>\n",
       "    <tr>\n",
       "      <th>0</th>\n",
       "      <td>1</td>\n",
       "      <td>1</td>\n",
       "      <td>1</td>\n",
       "      <td>1</td>\n",
       "      <td>1</td>\n",
       "      <td>0</td>\n",
       "      <td>1</td>\n",
       "      <td>6</td>\n",
       "    </tr>\n",
       "    <tr>\n",
       "      <th>1</th>\n",
       "      <td>1</td>\n",
       "      <td>1</td>\n",
       "      <td>0</td>\n",
       "      <td>1</td>\n",
       "      <td>1</td>\n",
       "      <td>1</td>\n",
       "      <td>1</td>\n",
       "      <td>6</td>\n",
       "    </tr>\n",
       "    <tr>\n",
       "      <th>2</th>\n",
       "      <td>1</td>\n",
       "      <td>0</td>\n",
       "      <td>1</td>\n",
       "      <td>1</td>\n",
       "      <td>1</td>\n",
       "      <td>0</td>\n",
       "      <td>1</td>\n",
       "      <td>5</td>\n",
       "    </tr>\n",
       "    <tr>\n",
       "      <th>3</th>\n",
       "      <td>1</td>\n",
       "      <td>0</td>\n",
       "      <td>1</td>\n",
       "      <td>1</td>\n",
       "      <td>0</td>\n",
       "      <td>1</td>\n",
       "      <td>1</td>\n",
       "      <td>5</td>\n",
       "    </tr>\n",
       "    <tr>\n",
       "      <th>4</th>\n",
       "      <td>1</td>\n",
       "      <td>1</td>\n",
       "      <td>1</td>\n",
       "      <td>0</td>\n",
       "      <td>1</td>\n",
       "      <td>0</td>\n",
       "      <td>1</td>\n",
       "      <td>5</td>\n",
       "    </tr>\n",
       "  </tbody>\n",
       "</table>\n",
       "</div>"
      ],
      "text/plain": [
       "   0  1  2  3  4  5  6  appear\n",
       "0  1  1  1  1  1  0  1       6\n",
       "1  1  1  0  1  1  1  1       6\n",
       "2  1  0  1  1  1  0  1       5\n",
       "3  1  0  1  1  0  1  1       5\n",
       "4  1  1  1  0  1  0  1       5"
      ]
     },
     "execution_count": 37,
     "metadata": {},
     "output_type": "execute_result"
    }
   ],
   "source": [
    "df['appear'] = df.sum(axis = 1)\n",
    "df.head()"
   ]
  },
  {
   "cell_type": "code",
   "execution_count": 38,
   "id": "a0c58b3b",
   "metadata": {},
   "outputs": [
    {
     "data": {
      "text/plain": [
       "0.99983"
      ]
     },
     "execution_count": 38,
     "metadata": {},
     "output_type": "execute_result"
    }
   ],
   "source": [
    "(df['appear'] > 0).mean()"
   ]
  },
  {
   "cell_type": "markdown",
   "id": "77146593",
   "metadata": {},
   "source": [
    "If 23 people are in the same room, what are the odds that two of them share a birthday? \n",
    "\n",
    "What if it's 20 people? 40?"
   ]
  },
  {
   "cell_type": "code",
   "execution_count": 39,
   "id": "daf9db60",
   "metadata": {},
   "outputs": [
    {
     "data": {
      "text/html": [
       "<div>\n",
       "<style scoped>\n",
       "    .dataframe tbody tr th:only-of-type {\n",
       "        vertical-align: middle;\n",
       "    }\n",
       "\n",
       "    .dataframe tbody tr th {\n",
       "        vertical-align: top;\n",
       "    }\n",
       "\n",
       "    .dataframe thead th {\n",
       "        text-align: right;\n",
       "    }\n",
       "</style>\n",
       "<table border=\"1\" class=\"dataframe\">\n",
       "  <thead>\n",
       "    <tr style=\"text-align: right;\">\n",
       "      <th></th>\n",
       "      <th>0</th>\n",
       "      <th>1</th>\n",
       "      <th>2</th>\n",
       "      <th>3</th>\n",
       "      <th>4</th>\n",
       "      <th>5</th>\n",
       "      <th>6</th>\n",
       "      <th>7</th>\n",
       "      <th>8</th>\n",
       "      <th>9</th>\n",
       "      <th>...</th>\n",
       "      <th>13</th>\n",
       "      <th>14</th>\n",
       "      <th>15</th>\n",
       "      <th>16</th>\n",
       "      <th>17</th>\n",
       "      <th>18</th>\n",
       "      <th>19</th>\n",
       "      <th>20</th>\n",
       "      <th>21</th>\n",
       "      <th>22</th>\n",
       "    </tr>\n",
       "  </thead>\n",
       "  <tbody>\n",
       "    <tr>\n",
       "      <th>0</th>\n",
       "      <td>29</td>\n",
       "      <td>31</td>\n",
       "      <td>144</td>\n",
       "      <td>234</td>\n",
       "      <td>336</td>\n",
       "      <td>200</td>\n",
       "      <td>241</td>\n",
       "      <td>201</td>\n",
       "      <td>100</td>\n",
       "      <td>96</td>\n",
       "      <td>...</td>\n",
       "      <td>240</td>\n",
       "      <td>122</td>\n",
       "      <td>296</td>\n",
       "      <td>17</td>\n",
       "      <td>197</td>\n",
       "      <td>140</td>\n",
       "      <td>157</td>\n",
       "      <td>130</td>\n",
       "      <td>216</td>\n",
       "      <td>46</td>\n",
       "    </tr>\n",
       "    <tr>\n",
       "      <th>1</th>\n",
       "      <td>346</td>\n",
       "      <td>168</td>\n",
       "      <td>28</td>\n",
       "      <td>226</td>\n",
       "      <td>120</td>\n",
       "      <td>277</td>\n",
       "      <td>248</td>\n",
       "      <td>142</td>\n",
       "      <td>356</td>\n",
       "      <td>124</td>\n",
       "      <td>...</td>\n",
       "      <td>54</td>\n",
       "      <td>215</td>\n",
       "      <td>26</td>\n",
       "      <td>303</td>\n",
       "      <td>47</td>\n",
       "      <td>279</td>\n",
       "      <td>130</td>\n",
       "      <td>193</td>\n",
       "      <td>211</td>\n",
       "      <td>147</td>\n",
       "    </tr>\n",
       "    <tr>\n",
       "      <th>2</th>\n",
       "      <td>157</td>\n",
       "      <td>158</td>\n",
       "      <td>46</td>\n",
       "      <td>230</td>\n",
       "      <td>127</td>\n",
       "      <td>205</td>\n",
       "      <td>236</td>\n",
       "      <td>233</td>\n",
       "      <td>51</td>\n",
       "      <td>88</td>\n",
       "      <td>...</td>\n",
       "      <td>353</td>\n",
       "      <td>338</td>\n",
       "      <td>83</td>\n",
       "      <td>354</td>\n",
       "      <td>102</td>\n",
       "      <td>189</td>\n",
       "      <td>132</td>\n",
       "      <td>44</td>\n",
       "      <td>4</td>\n",
       "      <td>284</td>\n",
       "    </tr>\n",
       "    <tr>\n",
       "      <th>3</th>\n",
       "      <td>44</td>\n",
       "      <td>290</td>\n",
       "      <td>343</td>\n",
       "      <td>123</td>\n",
       "      <td>24</td>\n",
       "      <td>325</td>\n",
       "      <td>260</td>\n",
       "      <td>203</td>\n",
       "      <td>21</td>\n",
       "      <td>238</td>\n",
       "      <td>...</td>\n",
       "      <td>232</td>\n",
       "      <td>229</td>\n",
       "      <td>349</td>\n",
       "      <td>98</td>\n",
       "      <td>213</td>\n",
       "      <td>129</td>\n",
       "      <td>88</td>\n",
       "      <td>135</td>\n",
       "      <td>183</td>\n",
       "      <td>287</td>\n",
       "    </tr>\n",
       "    <tr>\n",
       "      <th>4</th>\n",
       "      <td>254</td>\n",
       "      <td>123</td>\n",
       "      <td>329</td>\n",
       "      <td>66</td>\n",
       "      <td>352</td>\n",
       "      <td>23</td>\n",
       "      <td>30</td>\n",
       "      <td>30</td>\n",
       "      <td>253</td>\n",
       "      <td>75</td>\n",
       "      <td>...</td>\n",
       "      <td>153</td>\n",
       "      <td>72</td>\n",
       "      <td>359</td>\n",
       "      <td>242</td>\n",
       "      <td>82</td>\n",
       "      <td>36</td>\n",
       "      <td>18</td>\n",
       "      <td>190</td>\n",
       "      <td>292</td>\n",
       "      <td>15</td>\n",
       "    </tr>\n",
       "  </tbody>\n",
       "</table>\n",
       "<p>5 rows × 23 columns</p>\n",
       "</div>"
      ],
      "text/plain": [
       "    0    1    2    3    4    5    6    7    8    9   ...   13   14   15   16  \\\n",
       "0   29   31  144  234  336  200  241  201  100   96  ...  240  122  296   17   \n",
       "1  346  168   28  226  120  277  248  142  356  124  ...   54  215   26  303   \n",
       "2  157  158   46  230  127  205  236  233   51   88  ...  353  338   83  354   \n",
       "3   44  290  343  123   24  325  260  203   21  238  ...  232  229  349   98   \n",
       "4  254  123  329   66  352   23   30   30  253   75  ...  153   72  359  242   \n",
       "\n",
       "    17   18   19   20   21   22  \n",
       "0  197  140  157  130  216   46  \n",
       "1   47  279  130  193  211  147  \n",
       "2  102  189  132   44    4  284  \n",
       "3  213  129   88  135  183  287  \n",
       "4   82   36   18  190  292   15  \n",
       "\n",
       "[5 rows x 23 columns]"
      ]
     },
     "execution_count": 39,
     "metadata": {},
     "output_type": "execute_result"
    }
   ],
   "source": [
    "n_trials = 100000 # rows\n",
    "n_people = 23 # columns\n",
    "\n",
    "birthday = np.random.choice(range(1,366), size=(n_trials, n_people))\n",
    "df_birthday = pd.DataFrame(birthday)\n",
    "df_birthday.head()"
   ]
  },
  {
   "cell_type": "code",
   "execution_count": 40,
   "id": "c60b7618",
   "metadata": {},
   "outputs": [
    {
     "data": {
      "text/html": [
       "<div>\n",
       "<style scoped>\n",
       "    .dataframe tbody tr th:only-of-type {\n",
       "        vertical-align: middle;\n",
       "    }\n",
       "\n",
       "    .dataframe tbody tr th {\n",
       "        vertical-align: top;\n",
       "    }\n",
       "\n",
       "    .dataframe thead th {\n",
       "        text-align: right;\n",
       "    }\n",
       "</style>\n",
       "<table border=\"1\" class=\"dataframe\">\n",
       "  <thead>\n",
       "    <tr style=\"text-align: right;\">\n",
       "      <th></th>\n",
       "      <th>0</th>\n",
       "      <th>1</th>\n",
       "      <th>2</th>\n",
       "      <th>3</th>\n",
       "      <th>4</th>\n",
       "      <th>5</th>\n",
       "      <th>6</th>\n",
       "      <th>7</th>\n",
       "      <th>8</th>\n",
       "      <th>9</th>\n",
       "      <th>...</th>\n",
       "      <th>14</th>\n",
       "      <th>15</th>\n",
       "      <th>16</th>\n",
       "      <th>17</th>\n",
       "      <th>18</th>\n",
       "      <th>19</th>\n",
       "      <th>20</th>\n",
       "      <th>21</th>\n",
       "      <th>22</th>\n",
       "      <th>unique</th>\n",
       "    </tr>\n",
       "  </thead>\n",
       "  <tbody>\n",
       "    <tr>\n",
       "      <th>0</th>\n",
       "      <td>29</td>\n",
       "      <td>31</td>\n",
       "      <td>144</td>\n",
       "      <td>234</td>\n",
       "      <td>336</td>\n",
       "      <td>200</td>\n",
       "      <td>241</td>\n",
       "      <td>201</td>\n",
       "      <td>100</td>\n",
       "      <td>96</td>\n",
       "      <td>...</td>\n",
       "      <td>122</td>\n",
       "      <td>296</td>\n",
       "      <td>17</td>\n",
       "      <td>197</td>\n",
       "      <td>140</td>\n",
       "      <td>157</td>\n",
       "      <td>130</td>\n",
       "      <td>216</td>\n",
       "      <td>46</td>\n",
       "      <td>3</td>\n",
       "    </tr>\n",
       "    <tr>\n",
       "      <th>1</th>\n",
       "      <td>346</td>\n",
       "      <td>168</td>\n",
       "      <td>28</td>\n",
       "      <td>226</td>\n",
       "      <td>120</td>\n",
       "      <td>277</td>\n",
       "      <td>248</td>\n",
       "      <td>142</td>\n",
       "      <td>356</td>\n",
       "      <td>124</td>\n",
       "      <td>...</td>\n",
       "      <td>215</td>\n",
       "      <td>26</td>\n",
       "      <td>303</td>\n",
       "      <td>47</td>\n",
       "      <td>279</td>\n",
       "      <td>130</td>\n",
       "      <td>193</td>\n",
       "      <td>211</td>\n",
       "      <td>147</td>\n",
       "      <td>3</td>\n",
       "    </tr>\n",
       "    <tr>\n",
       "      <th>2</th>\n",
       "      <td>157</td>\n",
       "      <td>158</td>\n",
       "      <td>46</td>\n",
       "      <td>230</td>\n",
       "      <td>127</td>\n",
       "      <td>205</td>\n",
       "      <td>236</td>\n",
       "      <td>233</td>\n",
       "      <td>51</td>\n",
       "      <td>88</td>\n",
       "      <td>...</td>\n",
       "      <td>338</td>\n",
       "      <td>83</td>\n",
       "      <td>354</td>\n",
       "      <td>102</td>\n",
       "      <td>189</td>\n",
       "      <td>132</td>\n",
       "      <td>44</td>\n",
       "      <td>4</td>\n",
       "      <td>284</td>\n",
       "      <td>3</td>\n",
       "    </tr>\n",
       "    <tr>\n",
       "      <th>3</th>\n",
       "      <td>44</td>\n",
       "      <td>290</td>\n",
       "      <td>343</td>\n",
       "      <td>123</td>\n",
       "      <td>24</td>\n",
       "      <td>325</td>\n",
       "      <td>260</td>\n",
       "      <td>203</td>\n",
       "      <td>21</td>\n",
       "      <td>238</td>\n",
       "      <td>...</td>\n",
       "      <td>229</td>\n",
       "      <td>349</td>\n",
       "      <td>98</td>\n",
       "      <td>213</td>\n",
       "      <td>129</td>\n",
       "      <td>88</td>\n",
       "      <td>135</td>\n",
       "      <td>183</td>\n",
       "      <td>287</td>\n",
       "      <td>3</td>\n",
       "    </tr>\n",
       "    <tr>\n",
       "      <th>4</th>\n",
       "      <td>254</td>\n",
       "      <td>123</td>\n",
       "      <td>329</td>\n",
       "      <td>66</td>\n",
       "      <td>352</td>\n",
       "      <td>23</td>\n",
       "      <td>30</td>\n",
       "      <td>30</td>\n",
       "      <td>253</td>\n",
       "      <td>75</td>\n",
       "      <td>...</td>\n",
       "      <td>72</td>\n",
       "      <td>359</td>\n",
       "      <td>242</td>\n",
       "      <td>82</td>\n",
       "      <td>36</td>\n",
       "      <td>18</td>\n",
       "      <td>190</td>\n",
       "      <td>292</td>\n",
       "      <td>15</td>\n",
       "      <td>3</td>\n",
       "    </tr>\n",
       "  </tbody>\n",
       "</table>\n",
       "<p>5 rows × 24 columns</p>\n",
       "</div>"
      ],
      "text/plain": [
       "     0    1    2    3    4    5    6    7    8    9  ...   14   15   16   17  \\\n",
       "0   29   31  144  234  336  200  241  201  100   96  ...  122  296   17  197   \n",
       "1  346  168   28  226  120  277  248  142  356  124  ...  215   26  303   47   \n",
       "2  157  158   46  230  127  205  236  233   51   88  ...  338   83  354  102   \n",
       "3   44  290  343  123   24  325  260  203   21  238  ...  229  349   98  213   \n",
       "4  254  123  329   66  352   23   30   30  253   75  ...   72  359  242   82   \n",
       "\n",
       "    18   19   20   21   22  unique  \n",
       "0  140  157  130  216   46       3  \n",
       "1  279  130  193  211  147       3  \n",
       "2  189  132   44    4  284       3  \n",
       "3  129   88  135  183  287       3  \n",
       "4   36   18  190  292   15       3  \n",
       "\n",
       "[5 rows x 24 columns]"
      ]
     },
     "execution_count": 40,
     "metadata": {},
     "output_type": "execute_result"
    }
   ],
   "source": [
    "df_birthday['unique'] = df.nunique(axis=1)\n",
    "df_birthday.head()"
   ]
  },
  {
   "cell_type": "code",
   "execution_count": 43,
   "id": "975be98f",
   "metadata": {},
   "outputs": [
    {
     "data": {
      "text/plain": [
       "1.0"
      ]
     },
     "execution_count": 43,
     "metadata": {},
     "output_type": "execute_result"
    }
   ],
   "source": [
    "(df.nunique(axis = 1) != 23).mean()"
   ]
  },
  {
   "cell_type": "code",
   "execution_count": null,
   "id": "63efd382",
   "metadata": {},
   "outputs": [],
   "source": [
    "df_birthday = df_birthday.drop(columns=[\"n_unique\"])\n"
   ]
  },
  {
   "cell_type": "code",
   "execution_count": null,
   "id": "456f36c9",
   "metadata": {},
   "outputs": [],
   "source": [
    "df_birthday"
   ]
  }
 ],
 "metadata": {
  "kernelspec": {
   "display_name": "Python 3 (ipykernel)",
   "language": "python",
   "name": "python3"
  },
  "language_info": {
   "codemirror_mode": {
    "name": "ipython",
    "version": 3
   },
   "file_extension": ".py",
   "mimetype": "text/x-python",
   "name": "python",
   "nbconvert_exporter": "python",
   "pygments_lexer": "ipython3",
   "version": "3.9.13"
  }
 },
 "nbformat": 4,
 "nbformat_minor": 5
}
